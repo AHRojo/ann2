{
  "nbformat": 4,
  "nbformat_minor": 0,
  "metadata": {
    "colab": {
      "name": "Pregunta_1_ann2.ipynb",
      "version": "0.3.2",
      "provenance": [],
      "collapsed_sections": []
    },
    "language_info": {
      "codemirror_mode": {
        "name": "ipython",
        "version": 3
      },
      "file_extension": ".py",
      "mimetype": "text/x-python",
      "name": "python",
      "nbconvert_exporter": "python",
      "pygments_lexer": "ipython3",
      "version": "3.6.7"
    },
    "kernelspec": {
      "name": "python3",
      "display_name": "Python 3"
    },
    "accelerator": "GPU"
  },
  "cells": [
    {
      "cell_type": "markdown",
      "metadata": {
        "id": "TiYkvNMNs3gr",
        "colab_type": "text"
      },
      "source": [
        "<font size=5>\n",
        "  Manuel Weitzman 201473501-4 --- Andrés Huerta 201473544-8\n",
        "  </font>"
      ]
    },
    {
      "cell_type": "code",
      "metadata": {
        "id": "UHxRSMjILcku",
        "colab_type": "code",
        "outputId": "4b00d30b-21c1-4d8f-ce75-d65c4dd21fb4",
        "colab": {
          "base_uri": "https://localhost:8080/",
          "height": 35
        }
      },
      "source": [
        "#csv desde drive\n",
        "from google.colab import drive\n",
        "drive.mount('/content/drive')"
      ],
      "execution_count": 0,
      "outputs": [
        {
          "output_type": "stream",
          "text": [
            "Drive already mounted at /content/drive; to attempt to forcibly remount, call drive.mount(\"/content/drive\", force_remount=True).\n"
          ],
          "name": "stdout"
        }
      ]
    },
    {
      "cell_type": "code",
      "metadata": {
        "id": "L2LsbJqdLRHi",
        "colab_type": "code",
        "outputId": "9c6aef66-bd5f-4da2-bfc5-087514909182",
        "colab": {
          "base_uri": "https://localhost:8080/",
          "height": 35
        }
      },
      "source": [
        "import numpy as np\n",
        "import pandas as pd\n",
        "import matplotlib.pyplot as plt\n",
        "from gensim.models import Word2Vec\n",
        "from keras.utils import to_categorical\n",
        "from sklearn.model_selection import train_test_split\n",
        "from keras.models import Sequential\n",
        "from keras.layers import LSTM, Embedding, Dense, Dropout,TimeDistributed\n",
        "from sklearn.metrics import f1_score\n",
        "from keras.layers import GRU\n",
        "from keras.layers import Bidirectional\n",
        "\n",
        "#display(HTML(\"<style>.container { width:95% !important; }</style>\"))\n",
        "#display(HTML(\"<style>.text_cell_render p, .text_cell_render li { font-size: 12.5pt !important; }</style>\"))\n",
        "#display(HTML(\"<style>.text_cell_render li { margin: 0 0 10px 0; }</style>\"))"
      ],
      "execution_count": 0,
      "outputs": [
        {
          "output_type": "stream",
          "text": [
            "Using TensorFlow backend.\n"
          ],
          "name": "stderr"
        }
      ]
    },
    {
      "cell_type": "code",
      "metadata": {
        "id": "O1z2PvdiLRHm",
        "colab_type": "code",
        "outputId": "8b708068-8fd5-4a96-e482-555432cf11bd",
        "colab": {
          "base_uri": "https://localhost:8080/",
          "height": 35
        }
      },
      "source": [
        "df_ner = pd.read_csv(\"drive/My Drive/Colab Notebooks/entity-annotated-corpus/ner.csv\", encoding =\"cp1252\", error_bad_lines=False)\n",
        "df_ner.dropna(inplace=True)"
      ],
      "execution_count": 0,
      "outputs": [
        {
          "output_type": "stream",
          "text": [
            "b'Skipping line 281837: expected 25 fields, saw 34\\n'\n"
          ],
          "name": "stderr"
        }
      ]
    },
    {
      "cell_type": "markdown",
      "metadata": {
        "id": "_0g02UayLRHq",
        "colab_type": "text"
      },
      "source": [
        "> a) En esta primera instancia trabajaremos con la tarea de realizar un NER tag (Named Entity Recognition) sobre cada una de las palabras en las sentencias que se nos presenta en los datos. Esta tarea es del tipo many to many, es decir, la entrada es una secuencia y la salida es una secuencia, sin shift, por lo que necesitaremos una estructura de red adecuada a ésto. En primer lugar extraiga las columnas que utilizaremos del dataset ¿Por qué es conveniente utilizar lemma en vez de la misma palabra?"
      ]
    },
    {
      "cell_type": "code",
      "metadata": {
        "id": "tmLlF57lLRHq",
        "colab_type": "code",
        "colab": {}
      },
      "source": [
        "dataset = df_ner.loc[:,[\"lemma\",\"word\",\"pos\",\"tag\",\"prev-iob\"]]"
      ],
      "execution_count": 0,
      "outputs": []
    },
    {
      "cell_type": "markdown",
      "metadata": {
        "id": "8YD9GmOuLRHs",
        "colab_type": "text"
      },
      "source": [
        "Se prefiere la ultilización de lemma debido a que una palabra se puede escribir de multiples formas de acuerdo al contexto en el cual se utilice, lemmatizer corresponde a la normalización de las palabras a su raiz, por lo que existiria una sola forma (o eso se espera) de escribir una palabra."
      ]
    },
    {
      "cell_type": "code",
      "metadata": {
        "id": "eoxqkttKLRHt",
        "colab_type": "code",
        "outputId": "a1ae267e-22d2-4c95-ae19-c0f39489d83f",
        "colab": {
          "base_uri": "https://localhost:8080/",
          "height": 438
        }
      },
      "source": [
        "dataset.head(13)"
      ],
      "execution_count": 0,
      "outputs": [
        {
          "output_type": "execute_result",
          "data": {
            "text/html": [
              "<div>\n",
              "<style scoped>\n",
              "    .dataframe tbody tr th:only-of-type {\n",
              "        vertical-align: middle;\n",
              "    }\n",
              "\n",
              "    .dataframe tbody tr th {\n",
              "        vertical-align: top;\n",
              "    }\n",
              "\n",
              "    .dataframe thead th {\n",
              "        text-align: right;\n",
              "    }\n",
              "</style>\n",
              "<table border=\"1\" class=\"dataframe\">\n",
              "  <thead>\n",
              "    <tr style=\"text-align: right;\">\n",
              "      <th></th>\n",
              "      <th>lemma</th>\n",
              "      <th>word</th>\n",
              "      <th>pos</th>\n",
              "      <th>tag</th>\n",
              "      <th>prev-iob</th>\n",
              "    </tr>\n",
              "  </thead>\n",
              "  <tbody>\n",
              "    <tr>\n",
              "      <th>0</th>\n",
              "      <td>thousand</td>\n",
              "      <td>Thousands</td>\n",
              "      <td>NNS</td>\n",
              "      <td>O</td>\n",
              "      <td>__START1__</td>\n",
              "    </tr>\n",
              "    <tr>\n",
              "      <th>1</th>\n",
              "      <td>of</td>\n",
              "      <td>of</td>\n",
              "      <td>IN</td>\n",
              "      <td>O</td>\n",
              "      <td>O</td>\n",
              "    </tr>\n",
              "    <tr>\n",
              "      <th>2</th>\n",
              "      <td>demonstr</td>\n",
              "      <td>demonstrators</td>\n",
              "      <td>NNS</td>\n",
              "      <td>O</td>\n",
              "      <td>O</td>\n",
              "    </tr>\n",
              "    <tr>\n",
              "      <th>3</th>\n",
              "      <td>have</td>\n",
              "      <td>have</td>\n",
              "      <td>VBP</td>\n",
              "      <td>O</td>\n",
              "      <td>O</td>\n",
              "    </tr>\n",
              "    <tr>\n",
              "      <th>4</th>\n",
              "      <td>march</td>\n",
              "      <td>marched</td>\n",
              "      <td>VBN</td>\n",
              "      <td>O</td>\n",
              "      <td>O</td>\n",
              "    </tr>\n",
              "    <tr>\n",
              "      <th>5</th>\n",
              "      <td>through</td>\n",
              "      <td>through</td>\n",
              "      <td>IN</td>\n",
              "      <td>O</td>\n",
              "      <td>O</td>\n",
              "    </tr>\n",
              "    <tr>\n",
              "      <th>6</th>\n",
              "      <td>london</td>\n",
              "      <td>London</td>\n",
              "      <td>NNP</td>\n",
              "      <td>B-geo</td>\n",
              "      <td>O</td>\n",
              "    </tr>\n",
              "    <tr>\n",
              "      <th>7</th>\n",
              "      <td>to</td>\n",
              "      <td>to</td>\n",
              "      <td>TO</td>\n",
              "      <td>O</td>\n",
              "      <td>B-geo</td>\n",
              "    </tr>\n",
              "    <tr>\n",
              "      <th>8</th>\n",
              "      <td>protest</td>\n",
              "      <td>protest</td>\n",
              "      <td>VB</td>\n",
              "      <td>O</td>\n",
              "      <td>O</td>\n",
              "    </tr>\n",
              "    <tr>\n",
              "      <th>9</th>\n",
              "      <td>the</td>\n",
              "      <td>the</td>\n",
              "      <td>DT</td>\n",
              "      <td>O</td>\n",
              "      <td>O</td>\n",
              "    </tr>\n",
              "    <tr>\n",
              "      <th>10</th>\n",
              "      <td>war</td>\n",
              "      <td>war</td>\n",
              "      <td>NN</td>\n",
              "      <td>O</td>\n",
              "      <td>O</td>\n",
              "    </tr>\n",
              "    <tr>\n",
              "      <th>11</th>\n",
              "      <td>in</td>\n",
              "      <td>in</td>\n",
              "      <td>IN</td>\n",
              "      <td>O</td>\n",
              "      <td>O</td>\n",
              "    </tr>\n",
              "    <tr>\n",
              "      <th>12</th>\n",
              "      <td>iraq</td>\n",
              "      <td>Iraq</td>\n",
              "      <td>NNP</td>\n",
              "      <td>B-geo</td>\n",
              "      <td>O</td>\n",
              "    </tr>\n",
              "  </tbody>\n",
              "</table>\n",
              "</div>"
            ],
            "text/plain": [
              "       lemma           word  pos    tag    prev-iob\n",
              "0   thousand      Thousands  NNS      O  __START1__\n",
              "1         of             of   IN      O           O\n",
              "2   demonstr  demonstrators  NNS      O           O\n",
              "3       have           have  VBP      O           O\n",
              "4      march        marched  VBN      O           O\n",
              "5    through        through   IN      O           O\n",
              "6     london         London  NNP  B-geo           O\n",
              "7         to             to   TO      O       B-geo\n",
              "8    protest        protest   VB      O           O\n",
              "9        the            the   DT      O           O\n",
              "10       war            war   NN      O           O\n",
              "11        in             in   IN      O           O\n",
              "12      iraq           Iraq  NNP  B-geo           O"
            ]
          },
          "metadata": {
            "tags": []
          },
          "execution_count": 5
        }
      ]
    },
    {
      "cell_type": "markdown",
      "metadata": {
        "id": "CYMtM3pozyfr",
        "colab_type": "text"
      },
      "source": [
        "El dataset se compone de 5 atributos seleccionados, el primero \"lemma\" corresponde a la raíz de la palabra que se esta utilizando, \"word\" es la palabra explicita que se utiliza en la frase, \"pos\" indica el tag del token actual, \"tag\" anotación del token actual, \"prev-iob\" indica el token de la palabra anterior."
      ]
    },
    {
      "cell_type": "code",
      "metadata": {
        "id": "n09--xxbLRHw",
        "colab_type": "code",
        "outputId": "282be36d-6fca-4f22-f7fc-a506fbfecdc8",
        "colab": {
          "base_uri": "https://localhost:8080/",
          "height": 72
        }
      },
      "source": [
        "dataset.tag.unique()"
      ],
      "execution_count": 0,
      "outputs": [
        {
          "output_type": "execute_result",
          "data": {
            "text/plain": [
              "array(['O', 'B-geo', 'B-gpe', 'B-per', 'I-geo', 'B-org', 'I-org', 'B-tim',\n",
              "       'B-art', 'I-art', 'I-per', 'I-gpe', 'I-tim', 'B-nat', 'B-eve',\n",
              "       'I-eve', 'I-nat'], dtype=object)"
            ]
          },
          "metadata": {
            "tags": []
          },
          "execution_count": 6
        }
      ]
    },
    {
      "cell_type": "markdown",
      "metadata": {
        "id": "sw43RSZ1LRHy",
        "colab_type": "text"
      },
      "source": [
        "Existen un total de 17 labels que determinan que tipo de frase se esta utilizando."
      ]
    },
    {
      "cell_type": "markdown",
      "metadata": {
        "id": "KZlIhvslLRHz",
        "colab_type": "text"
      },
      "source": [
        "> Luego de esto cree una estructura que contendrá todas las sentencias u oraciones (lista de *lemmas*) y otra estructura que contendrá las etiquetas (lista de *tags*). **¿Cuales son las dimensiones de ambas estructuras? ¿Cada dato de ejemplo tiene las mismas dimensiones que el resto?**"
      ]
    },
    {
      "cell_type": "code",
      "metadata": {
        "id": "gCltYTg6LRH0",
        "colab_type": "code",
        "colab": {}
      },
      "source": [
        "n_used = 750000 #data to use-- your choice\n",
        "dataX_raw,dataY_raw = [],[]\n",
        "sentence, labels_sentence = list(), list()\n",
        "lemmas,labels = set(), set()  #uniques\n",
        "#Se recorre el dataset hasta la ultima palabra indicada por n_used\n",
        "for fila in dataset.values[:n_used]:\n",
        "    #Se determina si la palabra utilizada es el inicio de una horación\n",
        "    if fila[-1]==\"__START1__\": \n",
        "        #Se guardan en el dataset la oracion con sus tags\n",
        "        dataX_raw.append(sentence)\n",
        "        dataY_raw.append(labels_sentence)\n",
        "        sentence= []\n",
        "        labels_sentence = []\n",
        "    lemmas.add(fila[0])\n",
        "    labels.add(fila[3])\n",
        "    sentence.append(fila[0]) #add lemma\n",
        "    labels_sentence.append(fila[3]) #TAG\n",
        "dataX_raw = dataX_raw[1:]\n",
        "dataY_raw = dataY_raw[1:]"
      ],
      "execution_count": 0,
      "outputs": []
    },
    {
      "cell_type": "code",
      "metadata": {
        "id": "f9KQiB3pLRH3",
        "colab_type": "code",
        "outputId": "40a05451-3b8d-4500-eb89-b2b51c2c89fa",
        "colab": {
          "base_uri": "https://localhost:8080/",
          "height": 72
        }
      },
      "source": [
        "print(\"Total de sentencias:\",len(dataX_raw))\n",
        "print(\"Total de etiquetas:\",len(labels))\n",
        "print(\"Total de palabras:\",len(lemmas))"
      ],
      "execution_count": 0,
      "outputs": [
        {
          "output_type": "stream",
          "text": [
            "Total de sentencias: 34308\n",
            "Total de etiquetas: 17\n",
            "Total de palabras: 15959\n"
          ],
          "name": "stdout"
        }
      ]
    },
    {
      "cell_type": "markdown",
      "metadata": {
        "id": "9wF2hzaRLRH6",
        "colab_type": "text"
      },
      "source": [
        "El dataset posee un total de 34308 oraciones etiquetadas con 17 posibles tags, ademas se cuenta con un total de 15959 palabras posibles a utilizar en una oración.\n",
        "\n",
        "Debido a la naturaleza del lenguaje las dimensiones de cada ejemplo no son iguales para cada caso, dependiendo del contexto una oración puede estar constituida por cantidades distintas de palabras.\n",
        "\n",
        "Para poder entrenar redes en keras, es necesario dar un formato similar a cada input por lo que sera necesario dar un formato estandar para el desarrollo."
      ]
    },
    {
      "cell_type": "markdown",
      "metadata": {
        "id": "5zR-JJlMLRH6",
        "colab_type": "text"
      },
      "source": [
        "> b) Estudie la distribución del largo de los textos a procesar. Estudie también la frecuencia con la que aparecen las palabras en todo el dataset. ¿Se observa una ley Zipf? Realice un gráfico de la cantidad de datos por clase. Comente."
      ]
    },
    {
      "cell_type": "code",
      "metadata": {
        "id": "I8Sz73_RLRH7",
        "colab_type": "code",
        "outputId": "6ec39fd5-25cc-4600-d349-439873dc1c4d",
        "colab": {
          "base_uri": "https://localhost:8080/",
          "height": 54
        }
      },
      "source": [
        "freqs_sentence = dict()\n",
        "freqs_words = dict()\n",
        "for sentence in dataX_raw:\n",
        "    if len(sentence) not in freqs_sentence.keys():\n",
        "        freqs_sentence[len(sentence)] = 1\n",
        "    else:\n",
        "        freqs_sentence[len(sentence)] += 1\n",
        "    for word in sentence:\n",
        "        if word not in freqs_words.keys():\n",
        "            freqs_words[word] = 1\n",
        "        else:\n",
        "            freqs_words[word] += 1\n",
        "\n",
        "freqs_tags = dict()\n",
        "for sentence in dataY_raw:\n",
        "    for tag in sentence:\n",
        "        if tag != 'O':\n",
        "          if tag not in freqs_tags.keys():\n",
        "            freqs_tags[tag] = 1\n",
        "          else:\n",
        "            freqs_tags[tag] += 1\n",
        "\n",
        "print(\"Máxima cantidad de palabras en una frase:\",max(freqs_sentence.keys()))\n",
        "print(\"Mínima cantidad de palabras en una frase:\",min(freqs_sentence.keys()))"
      ],
      "execution_count": 0,
      "outputs": [
        {
          "output_type": "stream",
          "text": [
            "Máxima cantidad de palabras en una frase: 81\n",
            "Mínima cantidad de palabras en una frase: 1\n"
          ],
          "name": "stdout"
        }
      ]
    },
    {
      "cell_type": "markdown",
      "metadata": {
        "id": "vo85HAu-259E",
        "colab_type": "text"
      },
      "source": [
        "La máxima cantidad de palabras contenidas dentro de una oración es de 81 palabras, mientras que la mínima cantidad de palabras definidas para desarrollar una frase en el ejercicio son solo 1."
      ]
    },
    {
      "cell_type": "code",
      "metadata": {
        "id": "C8BEWBzvLRH9",
        "colab_type": "code",
        "outputId": "df3ffddb-fb88-400b-e3b1-ece1a46ff82b",
        "colab": {
          "base_uri": "https://localhost:8080/",
          "height": 459
        }
      },
      "source": [
        "plt.figure(figsize=(15,7))\n",
        "\n",
        "plt.bar(freqs_sentence.keys(), freqs_sentence.values())\n",
        "plt.xlabel('Cantidad de palabras en oración')\n",
        "plt.ylabel('Frecuencias')\n",
        "plt.title('Frecuencias según la cantidad de palabras en la oración')\n",
        "\n",
        "plt.show()"
      ],
      "execution_count": 0,
      "outputs": [
        {
          "output_type": "display_data",
          "data": {
            "image/png": "[encoded data removed]",
            "text/plain": [
              "<Figure size 1080x504 with 1 Axes>"
            ]
          },
          "metadata": {
            "tags": []
          }
        }
      ]
    },
    {
      "cell_type": "markdown",
      "metadata": {
        "id": "-VgLQura17oD",
        "colab_type": "text"
      },
      "source": [
        "La mayoria de las frases utilizadas contienen entre 15 a 25 palabras, se puede ver una aparente distribución normal en las frecuencias de las palabras."
      ]
    },
    {
      "cell_type": "code",
      "metadata": {
        "id": "L1kblg4dLRH_",
        "colab_type": "code",
        "colab": {}
      },
      "source": [
        "keys_high = sorted(freqs_words, key=freqs_words.get, reverse=True)[:75]\n",
        "\n",
        "keys_high_dict = dict()\n",
        "  \n",
        "for key in keys_high:\n",
        "  keys_high_dict[key] = freqs_words[key]"
      ],
      "execution_count": 0,
      "outputs": []
    },
    {
      "cell_type": "code",
      "metadata": {
        "id": "WsHeUQs28sI0",
        "colab_type": "code",
        "outputId": "109255ba-800f-4114-b350-ffe7d79ccc4a",
        "colab": {
          "base_uri": "https://localhost:8080/",
          "height": 485
        }
      },
      "source": [
        "plt.figure(figsize=(18,7))\n",
        "\n",
        "plt.bar(keys_high_dict.keys(), keys_high_dict.values())\n",
        "plt.xticks(rotation='vertical')\n",
        "plt.xlabel(\"Palabras\")\n",
        "plt.ylabel(\"Frecuencia\")\n",
        "plt.title(\"Frecuencias de palabras mas repetidas\")\n",
        "plt.show()"
      ],
      "execution_count": 0,
      "outputs": [
        {
          "output_type": "display_data",
          "data": {
            "image/png": "[encoded data removed]",
            "text/plain": [
              "<Figure size 1296x504 with 1 Axes>"
            ]
          },
          "metadata": {
            "tags": []
          }
        }
      ]
    },
    {
      "cell_type": "markdown",
      "metadata": {
        "id": "oukzIRZBDYG_",
        "colab_type": "text"
      },
      "source": [
        "Analizando las palabras mas repetidas se puede notar que existen \"palabras\" que corresponden a puntuaciones por lo que se eliminan de la observación."
      ]
    },
    {
      "cell_type": "markdown",
      "metadata": {
        "id": "F_eCqQD79oui",
        "colab_type": "text"
      },
      "source": [
        "Se puede notar que las 25 palabras mas repetidas, son en su mayoría conectores que en la mayoría de los casos no otorgan un gran valor al contexto de la frase, quizas seria recomendable remover aquellas palabras que se repiten una gran cantidad de veces."
      ]
    },
    {
      "cell_type": "code",
      "metadata": {
        "id": "7LL2Q_UNORys",
        "colab_type": "code",
        "colab": {}
      },
      "source": [
        "all_vocab = dict()\n",
        "\n",
        "for word in dataset.values[:]:\n",
        "    if word[0].isalpha():\n",
        "        if word[0] not in all_vocab.keys():\n",
        "            all_vocab[word[0]] = 1\n",
        "        else:\n",
        "            all_vocab[word[0]] += 1\n",
        "            \n",
        "vocab_list = [(all_vocab[key], key) for key in all_vocab.keys()]\n",
        "vocab_list.sort(reverse=True)\n",
        "\n",
        "x_ticks = list()\n",
        "y_ticks = list()\n",
        "\n",
        "for i in range(len(vocab_list)):\n",
        "    x_ticks.append(np.log(i + 1))\n",
        "    y_ticks.append(np.log(vocab_list[i][0]))\n"
      ],
      "execution_count": 0,
      "outputs": []
    },
    {
      "cell_type": "code",
      "metadata": {
        "id": "vW2PRguWPq8R",
        "colab_type": "code",
        "outputId": "73381172-957e-4cdd-fb43-9e02281fe591",
        "colab": {
          "base_uri": "https://localhost:8080/",
          "height": 461
        }
      },
      "source": [
        "plt.figure(figsize=(18, 7))\n",
        "\n",
        "plt.plot(x_ticks, y_ticks)\n",
        "plt.xticks(rotation='vertical')\n",
        "plt.xlabel(\"Palabras\")\n",
        "plt.ylabel(\"Frecuencia\")\n",
        "plt.title(\"Frecuencias de palabras\")\n",
        "\n",
        "plt.show()"
      ],
      "execution_count": 0,
      "outputs": [
        {
          "output_type": "display_data",
          "data": {
            "image/png": "[encoded data removed]",
            "text/plain": [
              "<Figure size 1296x504 with 1 Axes>"
            ]
          },
          "metadata": {
            "tags": []
          }
        }
      ]
    },
    {
      "cell_type": "markdown",
      "metadata": {
        "id": "gaQr4QMmOWi8",
        "colab_type": "text"
      },
      "source": [
        "La ley de zipf corresponde a que en un vocabulario la frecuencia en la aparición de las palabras sigue la distribución:\n",
        "\n",
        "$$P_{n} \\sim \\frac{1}{n^{a}}$$\n",
        "\n",
        "Lo que quiere decir que el segundo elemento correspondera aproximadamente a 1/2 del primero, el tercero a 1/3 y así sucesivamente, en este caso se puede notar a simple vista que existe esa relación entre el primero y el segundo, el tercero no es tan notorio, pero se debe recordar que se esta trabajando con probabilidades, se puede notar que a la larga si existe una tendencia a lo especificado, por lo que se podría considerar que si se cumple la ley de zipf."
      ]
    },
    {
      "cell_type": "code",
      "metadata": {
        "colab_type": "code",
        "outputId": "bbcb9312-d45e-4986-8678-684ab73681f0",
        "id": "8CBPGAxKVM6a",
        "colab": {
          "base_uri": "https://localhost:8080/",
          "height": 35
        }
      },
      "source": [
        "quantity = 0\n",
        "\n",
        "for key in freqs_words.keys():\n",
        "    if freqs_words[key] <= 50:\n",
        "      quantity += 1\n",
        "      \n",
        "print(\"Cantidad de palabras con igual o menos de 50 repeticiones:\",quantity)"
      ],
      "execution_count": 0,
      "outputs": [
        {
          "output_type": "stream",
          "text": [
            "Cantidad de palabras con igual o menos de 50 repeticiones: 14351\n"
          ],
          "name": "stdout"
        }
      ]
    },
    {
      "cell_type": "markdown",
      "metadata": {
        "id": "acwMt5y997cd",
        "colab_type": "text"
      },
      "source": [
        "Existen 14351 palabras que se repiten menos de 50 veces, por motivos de espacio se decidio no realizar un gráfico de estos valores, pero se debe tener claro que del universo de 15959 lemmas una gran cantidad de estas palabras no aparecen muchas veces en el dataset."
      ]
    },
    {
      "cell_type": "code",
      "metadata": {
        "id": "hs55_KZ-VPXX",
        "colab_type": "code",
        "colab": {}
      },
      "source": [
        "tags_tuples = [(freqs_tags[key], key) for key in freqs_tags.keys()]\n",
        "tags_tuples.sort(reverse=True)\n",
        "\n",
        "x_ticks = list()\n",
        "y_ticks = list()\n",
        "\n",
        "for i in range(len(tags_tuples)):\n",
        "    y_ticks.append(tags_tuples[i][0])\n",
        "    x_ticks.append(tags_tuples[i][1])"
      ],
      "execution_count": 0,
      "outputs": []
    },
    {
      "cell_type": "markdown",
      "metadata": {
        "id": "ShTHtXCcFKZm",
        "colab_type": "text"
      },
      "source": [
        "Se procede a gráficar la frecuencia de los tags o lo que vendría a hacer nuestro valor a predecir."
      ]
    },
    {
      "cell_type": "code",
      "metadata": {
        "id": "DSZg5HE_XjvO",
        "colab_type": "code",
        "outputId": "bed5702e-fdbe-4e81-cb79-4df76bf729a7",
        "colab": {
          "base_uri": "https://localhost:8080/",
          "height": 458
        }
      },
      "source": [
        "plt.figure(figsize=(15,7))\n",
        "\n",
        "plt.bar(x_ticks, y_ticks)\n",
        "plt.xlabel('Tags')\n",
        "plt.ylabel('Frecuencias')\n",
        "plt.title('Frecuencias según tags')\n",
        "\n",
        "plt.show()"
      ],
      "execution_count": 0,
      "outputs": [
        {
          "output_type": "display_data",
          "data": {
            "image/png": "[encoded data removed]",
            "text/plain": [
              "<Figure size 1080x504 with 1 Axes>"
            ]
          },
          "metadata": {
            "tags": []
          }
        }
      ]
    },
    {
      "cell_type": "markdown",
      "metadata": {
        "id": "0cGrli_7FHfA",
        "colab_type": "text"
      },
      "source": [
        "Se puede notar un claro desbalance de clases en los tags, sera necesario tomar medidas para evitar que la red clasifique los textos basandose unicamente en la mayor frecuencia, ademas sera necesario implementar algo para evitar que el desbalance afecte mucho en la separanción de los conjuntos de entrenamiento y testing."
      ]
    },
    {
      "cell_type": "markdown",
      "metadata": {
        "id": "1B4u6jQhLRIF",
        "colab_type": "text"
      },
      "source": [
        "> c) Para representar cada posible *tag* y *lemma* de modo que la red pueda manejarlo, será necesario codificarlos a un número único (*indice*) ¿Cuántos *tags* y *lemmas* distintos existen?  Comente sobre el significado del *tag* para cada *lemma*. **Finalmente mida el largo máximo de entre todas las sentencias**"
      ]
    },
    {
      "cell_type": "code",
      "metadata": {
        "id": "y7OXk8CfLRIG",
        "colab_type": "code",
        "colab": {}
      },
      "source": [
        "n_labels = len(labels)\n",
        "lab2idx = {t: i for i, t in enumerate(labels)}\n",
        "dataY = [[lab2idx[ner] for ner in ner_tags ] for ner_tags in dataY_raw] #Converting tags to indexs\n",
        "n_lemmas = len(lemmas)\n",
        "lemma2idx = {w: i for i, w in enumerate(lemmas)} \n",
        "dataX = [[lemma2idx[lemma] for lemma in sentence ] for sentence in dataX_raw] #Converting text to indexs"
      ],
      "execution_count": 0,
      "outputs": []
    },
    {
      "cell_type": "code",
      "metadata": {
        "id": "-j8oIldBLRIJ",
        "colab_type": "code",
        "outputId": "2ac93d87-815d-41f8-c1ab-d982d0863e49",
        "colab": {
          "base_uri": "https://localhost:8080/",
          "height": 54
        }
      },
      "source": [
        "print(\"Total de etiquetas:\",len(lab2idx))\n",
        "print(\"Total de palabras:\",len(lemma2idx))"
      ],
      "execution_count": 0,
      "outputs": [
        {
          "output_type": "stream",
          "text": [
            "Total de etiquetas: 17\n",
            "Total de palabras: 15959\n"
          ],
          "name": "stdout"
        }
      ]
    },
    {
      "cell_type": "markdown",
      "metadata": {
        "id": "diU3ra6KLRIN",
        "colab_type": "text"
      },
      "source": [
        "Existen un total de 17 etiquetas posibles para cada sentencia y un total de 15959 distintos lemmas"
      ]
    },
    {
      "cell_type": "code",
      "metadata": {
        "id": "yJJ0PWIvGpLq",
        "colab_type": "code",
        "outputId": "98a8f9f6-c03b-40d2-b035-24cc0a8d190d",
        "colab": {
          "base_uri": "https://localhost:8080/",
          "height": 326
        }
      },
      "source": [
        "for i in labels:\n",
        "  print(i)"
      ],
      "execution_count": 0,
      "outputs": [
        {
          "output_type": "stream",
          "text": [
            "I-geo\n",
            "B-gpe\n",
            "O\n",
            "I-gpe\n",
            "B-nat\n",
            "I-art\n",
            "B-geo\n",
            "B-org\n",
            "I-tim\n",
            "B-per\n",
            "I-per\n",
            "I-nat\n",
            "I-org\n",
            "B-tim\n",
            "B-art\n",
            "B-eve\n",
            "I-eve\n"
          ],
          "name": "stdout"
        }
      ]
    },
    {
      "cell_type": "markdown",
      "metadata": {
        "id": "a_UTx6-PLRIM",
        "colab_type": "text"
      },
      "source": [
        "El tag para cada lemma, esta indicando respecto a que hace referencia la frase que se esta utilizando en la oración, por ejemplo B-geo hace referencia a un lugar geografico, B-per indica que en la frase u oración se esta haciendo referencia a una persona y B-tim hace referencia a un punto en el tiempo y asi sucesivamente, el tag O corresponde a nada de momento en la frase, en otras palabras quiere decir que la frase aun no ha terminado."
      ]
    },
    {
      "cell_type": "code",
      "metadata": {
        "id": "eftvvVWDLRIO",
        "colab_type": "code",
        "colab": {}
      },
      "source": [
        "max_input_lenght = len(max(dataX, key=len))"
      ],
      "execution_count": 0,
      "outputs": []
    },
    {
      "cell_type": "markdown",
      "metadata": {
        "id": "EY5me5yjLRIQ",
        "colab_type": "text"
      },
      "source": [
        "El largo máximo corresponde a 81 palabras dentro de una sentencia."
      ]
    },
    {
      "cell_type": "markdown",
      "metadata": {
        "id": "z-y8XCMtLRIR",
        "colab_type": "text"
      },
      "source": [
        "> d) Debido a la distinta extensión de textos se deberá **realizar *padding* para estandarizar el largo**,\n",
        "considere algun carácter especial **no presente en el vocabulario** para codificar el espacio en blanco en ambos (entrada y salida), por ejemplo si el largo máximo es de 4 y se tiene la sentencia \"the rocket\" codificada como [32,4] será necesario agregar un *lemma* que codificado significará el fin de la sentencia \"the rocket *ENDPAD ENDPAD*\" que codificado quedará como [32,4,*N, N*]. Decida, respecto al cómo funciona una red recurrente y su *memoria*, sobre qué le parece más conveniente al momento de rellenar con un valor especial ¿Al principio o al final de la sentencia? Comente"
      ]
    },
    {
      "cell_type": "code",
      "metadata": {
        "id": "oUzUr8sMLRIS",
        "colab_type": "code",
        "colab": {}
      },
      "source": [
        "lemma2idx[\"ANVORGESA\"] = n_lemmas #add fullfill lemma and tag to the dictionary\n",
        "lab2idx[\"ANVORGESA\"] = n_labels\n",
        "n_labels +=1\n",
        "n_lemmas +=1\n",
        "from keras.preprocessing import sequence\n",
        "X = sequence.pad_sequences(dataX, maxlen=max_input_lenght,padding='post',value=lemma2idx[\"ANVORGESA\"])\n",
        "y = sequence.pad_sequences(dataY, maxlen=max_input_lenght,padding='post',value=lab2idx[\"ANVORGESA\"])\n",
        "del dataY[:],dataX[:]"
      ],
      "execution_count": 0,
      "outputs": []
    },
    {
      "cell_type": "markdown",
      "metadata": {
        "id": "8_93-uuVLRIV",
        "colab_type": "text"
      },
      "source": [
        "Se decide utilizar realizar el padding posterior a la sentencia utilizada, esto se utiliza para que el padding no afecte en el final de la sentencia hasta que se haya leido toda la frase, debido al funcionamiento que tienen las redes recurrentes la desición se vera mas afectada por lo que ha leido hasta hace poco, si se realiza el padding antes de la frase puede ser que la red considere la cantidad de veces que se repite dicho ENDPAD para tomar una desición.\n",
        "\n",
        "**Despues de haber trabajado:**\n",
        "\n",
        "Aparentemente para problemas de este estilo con redes recurrentes es mas eficiente realizar pre-padding, aún así comparando resultados con otros experimentadores en este mismo ejercicio se obtuvo que los resultados eran similares, posiblemente dado que existe una mayor cantidad de neuronas que máximo de palabras en el input es posible que existan algunas que logran aprender lo necesario para determinar el contexto de la sentencia"
      ]
    },
    {
      "cell_type": "markdown",
      "metadata": {
        "id": "zKcd5M08LRIW",
        "colab_type": "text"
      },
      "source": [
        "> e) Para poder generar una representación adecuada sobre los datos de entrada que permita realizar operaciones lineales, deberá generar una representación a un vector denso. Para ésto se utilizará la arquitectura de autoencoder **Word2Vec** sobre textos *raws* de largo variable, en donde el *encoder* codifica una palabra categórica (*target*) a un vector denso de dimensionalidad $d$ mientras que el *decoder* genera palabras en el contexto (*context*) de la palabra *target* (en una vecindad alrededor). La idea detrás es que palabras similares sean proyectadas a una región cercana en el espacio de *embedding* ¿Cuál es la importancia del parámetro min_count? ¿Cuántos *lemmas* ve Word2Vec?"
      ]
    },
    {
      "cell_type": "code",
      "metadata": {
        "id": "arMoQ4ZMLRIZ",
        "colab_type": "code",
        "outputId": "f1e32f0d-cdd1-45ec-d7ae-e1888ee4d9ce",
        "colab": {
          "base_uri": "https://localhost:8080/",
          "height": 35
        }
      },
      "source": [
        "EMBEDDING_DIM = 32\n",
        "window_size = 5\n",
        "nb_epoch = 5\n",
        "batch_size = 6000\n",
        "min_count = 5\n",
        "model = Word2Vec(dataX_raw,size=EMBEDDING_DIM,window=window_size,batch_words=batch_size,iter=nb_epoch,\n",
        "                 min_count=min_count, negative=5,sg=1) #sg=1 mean skip-gram\n",
        "embeddings_index = {vocab_word: model.wv[vocab_word] for vocab_word in model.wv.vocab}\n",
        "print(\"Cantidad de lemmas:\",len(embeddings_index.keys()))"
      ],
      "execution_count": 0,
      "outputs": [
        {
          "output_type": "stream",
          "text": [
            "Cantidad de lemmas: 6500\n"
          ],
          "name": "stdout"
        }
      ]
    },
    {
      "cell_type": "markdown",
      "metadata": {
        "id": "ESrDidDMMu9f",
        "colab_type": "text"
      },
      "source": [
        "**Un Word2Vec funciona como una red de 2 capas dentro del modelo desarrollado,  se enfoca principalmente en encontrar relaciones entre palabras o que tan cercanas son unas de otras. Este al final lo que intenta realizar es generar un vector de contexto para que nuestra segunda capa de nuestra red pueda interpretar de mejor manera la sentencia trabajada, por lo que funciona particularmente bien cuando se esta intentando buscar el contexto de una frase. Esta capa o parte de la red funciona obteniendo relaciones entre palabras, por lo que a una mayor cantidad de ejemplos mejor sera la relación determinada.**\n",
        "\n",
        "El atributo min_count determina la cantidad minima de apariciones que debe tener una palabra para ser considerada dentro de la representación de modo que se pueda asociar con otra, si se ignora dicho parámetro entonces la función utilizara palabras que aparecen una unica vez, esto genera que el tamaño de la matriz a generar sea muy grande y las relaciones generadas podrían ser insignificantes utilizando memoria que no entrega ningun tipo de información.\n",
        "\n",
        "con el atributo min_count definido el Word2Vec reconoce 6500 palabras dentro del vocabulario, esto significa que cuando aparesca una palabra que no corresponda al vocabulario probablemente sera ignorada por la red."
      ]
    },
    {
      "cell_type": "markdown",
      "metadata": {
        "id": "FE5MxuggLRIc",
        "colab_type": "text"
      },
      "source": [
        "Genere una matriz de *embeddings* que se utilizarán como capa neuronal."
      ]
    },
    {
      "cell_type": "code",
      "metadata": {
        "id": "w-cwMmGMLRIc",
        "colab_type": "code",
        "colab": {}
      },
      "source": [
        "embedding_matrix = np.zeros((n_lemmas, EMBEDDING_DIM))\n",
        "for word, i in lemma2idx.items():\n",
        "    embedding_vector = embeddings_index.get(word)\n",
        "    if embedding_vector is not None: #if word does not has embedding\n",
        "        embedding_matrix[i] = embedding_vector"
      ],
      "execution_count": 0,
      "outputs": []
    },
    {
      "cell_type": "markdown",
      "metadata": {
        "id": "salwBkVHKeC7",
        "colab_type": "text"
      },
      "source": [
        "En este punto se genera el vocabulario para utilizar en la red neuronal, el if dentro del codigo anterior determina si la palabra observada esta dentro de las palabras consideradas para el vocabulario, de ser así se agregan al vocabulario."
      ]
    },
    {
      "cell_type": "markdown",
      "metadata": {
        "id": "--aNlFVOLRIe",
        "colab_type": "text"
      },
      "source": [
        "Luego, para poder realizar una clasificación sobre los datos en la salida será necesario representarlos *one hot vectors*, esto resultará en un arreglo tridimensional."
      ]
    },
    {
      "cell_type": "code",
      "metadata": {
        "id": "x_96-8XhLRIe",
        "colab_type": "code",
        "colab": {}
      },
      "source": [
        "y = np.asarray([to_categorical(i, num_classes=n_labels) for i in y])"
      ],
      "execution_count": 0,
      "outputs": []
    },
    {
      "cell_type": "markdown",
      "metadata": {
        "id": "oXdAbG7MN0tf",
        "colab_type": "text"
      },
      "source": [
        "> f) Luego de esto cree los conjuntos de entrenamiento y de prueba con el código a continuación **¿Cuáles son las dimensiones de entrada y salida de cada conjunto?** Comente"
      ]
    },
    {
      "cell_type": "code",
      "metadata": {
        "id": "mUXsjxLMLRIg",
        "colab_type": "code",
        "colab": {}
      },
      "source": [
        "X_train, X_test, y_train, y_test = train_test_split(X, y, test_size=0.3,random_state=22)"
      ],
      "execution_count": 0,
      "outputs": []
    },
    {
      "cell_type": "code",
      "metadata": {
        "id": "1EzCKD1rOWV2",
        "colab_type": "code",
        "outputId": "ce4f1128-6fb8-41b6-ee1c-23408d406c99",
        "colab": {
          "base_uri": "https://localhost:8080/",
          "height": 54
        }
      },
      "source": [
        "print(\"X train shape:\",X_train.shape,\"test:\",X_test.shape)\n",
        "print(\"y train shape:\",y_train.shape,\"test:\",y_test.shape)"
      ],
      "execution_count": 0,
      "outputs": [
        {
          "output_type": "stream",
          "text": [
            "X train shape: (24015, 81) test: (10293, 81)\n",
            "y train shape: (24015, 81, 18) test: (10293, 81, 18)\n"
          ],
          "name": "stdout"
        }
      ]
    },
    {
      "cell_type": "markdown",
      "metadata": {
        "id": "IkS7v7zlOR5w",
        "colab_type": "text"
      },
      "source": [
        "El conjunto de entrenamiento cuenta con 24015 ejemplos, mientras que el de testing cuenta con 10293.\n",
        "\n",
        "Para las dimensiones los atributos con los que cuenta cada ejemplo corresponde al texto que lleva, se define un tamaño 81 correspondiente a la máxima cantidad de palabras posibles para generar una sentencia (para este caso), el conjunto \"y\" cuenta un tag distinto para cada palabra que aparece en las 81 posibles posiciones de la palabra, este valor puede ser 1 de los 18 posibles tags."
      ]
    },
    {
      "cell_type": "markdown",
      "metadata": {
        "id": "obCgkgtMPd2l",
        "colab_type": "text"
      },
      "source": [
        "> g) Defina una red neuronal recurrente *many to many* con compuertas LSTM para aprender a *tagear* la entidad en el texto. Esta red debe procesar la secuencia de *lemmas* rellenados (o sin rellenar) y entregar el *tag* a cada uno de los *lemmas*, por lo que la salida de la red es una por cada instante de tiempo que se necesita entregar un *output*. La primera capa de la red a construir debe tener los vectores de *embedding* encontrados por **Word2Vec**. "
      ]
    },
    {
      "cell_type": "code",
      "metadata": {
        "id": "4PHOKuv-N1VG",
        "colab_type": "code",
        "outputId": "c8921913-0241-4b8e-88de-1f42e12837e6",
        "colab": {
          "base_uri": "https://localhost:8080/",
          "height": 601
        }
      },
      "source": [
        "model = Sequential()\n",
        "model.add(Embedding(input_dim=n_lemmas, output_dim=EMBEDDING_DIM, input_length=max_input_lenght,\n",
        "                    trainable=False, weights = [embedding_matrix]))\n",
        "model.add(LSTM(units=100,return_sequences=True))\n",
        "model.add(Dropout(0.2))\n",
        "model.add(TimeDistributed(Dense(n_labels, activation='softmax')))\n",
        "model.summary()\n",
        "model.compile(loss='categorical_crossentropy', optimizer='adam')"
      ],
      "execution_count": 0,
      "outputs": [
        {
          "output_type": "stream",
          "text": [
            "WARNING: Logging before flag parsing goes to stderr.\n",
            "W0730 21:13:07.934280 140436590393216 deprecation_wrapper.py:119] From /usr/local/lib/python3.6/dist-packages/keras/backend/tensorflow_backend.py:74: The name tf.get_default_graph is deprecated. Please use tf.compat.v1.get_default_graph instead.\n",
            "\n",
            "W0730 21:13:07.955459 140436590393216 deprecation_wrapper.py:119] From /usr/local/lib/python3.6/dist-packages/keras/backend/tensorflow_backend.py:517: The name tf.placeholder is deprecated. Please use tf.compat.v1.placeholder instead.\n",
            "\n",
            "W0730 21:13:07.957911 140436590393216 deprecation_wrapper.py:119] From /usr/local/lib/python3.6/dist-packages/keras/backend/tensorflow_backend.py:4138: The name tf.random_uniform is deprecated. Please use tf.random.uniform instead.\n",
            "\n",
            "W0730 21:13:07.968577 140436590393216 deprecation_wrapper.py:119] From /usr/local/lib/python3.6/dist-packages/keras/backend/tensorflow_backend.py:174: The name tf.get_default_session is deprecated. Please use tf.compat.v1.get_default_session instead.\n",
            "\n",
            "W0730 21:13:07.971258 140436590393216 deprecation_wrapper.py:119] From /usr/local/lib/python3.6/dist-packages/keras/backend/tensorflow_backend.py:181: The name tf.ConfigProto is deprecated. Please use tf.compat.v1.ConfigProto instead.\n",
            "\n",
            "W0730 21:13:08.815492 140436590393216 deprecation.py:506] From /usr/local/lib/python3.6/dist-packages/keras/backend/tensorflow_backend.py:3445: calling dropout (from tensorflow.python.ops.nn_ops) with keep_prob is deprecated and will be removed in a future version.\n",
            "Instructions for updating:\n",
            "Please use `rate` instead of `keep_prob`. Rate should be set to `rate = 1 - keep_prob`.\n",
            "W0730 21:13:08.848405 140436590393216 deprecation_wrapper.py:119] From /usr/local/lib/python3.6/dist-packages/keras/optimizers.py:790: The name tf.train.Optimizer is deprecated. Please use tf.compat.v1.train.Optimizer instead.\n",
            "\n"
          ],
          "name": "stderr"
        },
        {
          "output_type": "stream",
          "text": [
            "_________________________________________________________________\n",
            "Layer (type)                 Output Shape              Param #   \n",
            "=================================================================\n",
            "embedding_1 (Embedding)      (None, 81, 32)            510720    \n",
            "_________________________________________________________________\n",
            "lstm_1 (LSTM)                (None, 81, 100)           53200     \n",
            "_________________________________________________________________\n",
            "dropout_1 (Dropout)          (None, 81, 100)           0         \n",
            "_________________________________________________________________\n",
            "time_distributed_1 (TimeDist (None, 81, 18)            1818      \n",
            "=================================================================\n",
            "Total params: 565,738\n",
            "Trainable params: 55,018\n",
            "Non-trainable params: 510,720\n",
            "_________________________________________________________________\n"
          ],
          "name": "stdout"
        }
      ]
    },
    {
      "cell_type": "markdown",
      "metadata": {
        "id": "s-PzYn3kmgEY",
        "colab_type": "text"
      },
      "source": [
        ">  **Comente sobre los cambios que sufre un dato al ingresar a la red y la cantidad de parámetros de la red**."
      ]
    },
    {
      "cell_type": "markdown",
      "metadata": {
        "id": "sCC4DE4VM18i",
        "colab_type": "text"
      },
      "source": [
        "Siendo el input unicamente la oracion con 81 palabras (incluidas el padding) al ingresar a la red las dimensiones de esta se ven aumentados a la salida de la primera capa, esto se debe a la codificación de cada palabra a un vector de 32 atributos por la capa de embedding.\n",
        "\n",
        "Para la siguiente capa entrega el input a cada neurona (100 en la capa), donde cada neurona intentara aprender las caracteristicas importantes del problema.\n",
        "\n",
        "La capa TimeDistributed permite a la red generar un output por cada palabra que le llega a la capa, esta capa es la que nos permite generar una red many to many, de no estar se entregaria tan solo una respuesta.\n",
        "\n",
        "La cantidad de parametros que posee la red neuronal corresponden a 565738, pero de estos solo 55018 son entrenables, el motivo por el cual son pocos es que en lugar de generar una capa por cada timestamp de la sentencia, lo que generaria alrededor de 81 capas se utiliza solo una capa que leera distintos timestamps de la frase con pesos compartidos."
      ]
    },
    {
      "cell_type": "markdown",
      "metadata": {
        "id": "GW-OtwiZmnn4",
        "colab_type": "text"
      },
      "source": [
        "> **Entrene y luego evalúe su desempeño sobre ambos conjuntos.**"
      ]
    },
    {
      "cell_type": "code",
      "metadata": {
        "id": "xiA-VPVGN1Xn",
        "colab_type": "code",
        "outputId": "2c2269f9-6c0b-4fd6-ba11-c5a74a6f17b6",
        "colab": {
          "base_uri": "https://localhost:8080/",
          "height": 92
        }
      },
      "source": [
        "history = model.fit(X_train, y_train, validation_data=(X_test, y_test), epochs=15, batch_size=128, verbose=0)"
      ],
      "execution_count": 0,
      "outputs": [
        {
          "output_type": "stream",
          "text": [
            "W0730 21:13:08.972889 140436590393216 deprecation.py:323] From /usr/local/lib/python3.6/dist-packages/tensorflow/python/ops/math_grad.py:1250: add_dispatch_support.<locals>.wrapper (from tensorflow.python.ops.array_ops) is deprecated and will be removed in a future version.\n",
            "Instructions for updating:\n",
            "Use tf.where in 2.0, which has the same broadcast rule as np.where\n"
          ],
          "name": "stderr"
        }
      ]
    },
    {
      "cell_type": "code",
      "metadata": {
        "id": "qp0qZ5mHtY1w",
        "colab_type": "code",
        "colab": {}
      },
      "source": [
        "def plot_losses(hist): \n",
        "  plt.figure(figsize=(15, 7))\n",
        "  \n",
        "  plt.plot(hist.history['loss'])\n",
        "  plt.plot(hist.history['val_loss'])\n",
        "\n",
        "  plt.xlabel(\"Epoch\")\n",
        "  plt.ylabel(\"Loss\")\n",
        "  \n",
        "  plt.legend([\"Train Loss\", \"Val Loss\"], loc=\"upper right\")\n",
        "  \n",
        "  plt.title(\"Traning & Test Losses\")\n",
        "  \n",
        "  plt.show()\n",
        "  \n",
        "  print(\"Final Train Loss:\",hist.history['loss'][-1])\n",
        "  print(\"Min val_loss:\",min(hist.history['val_loss']))"
      ],
      "execution_count": 0,
      "outputs": []
    },
    {
      "cell_type": "code",
      "metadata": {
        "id": "C4p9PczMvFJC",
        "colab_type": "code",
        "outputId": "267862f8-519f-48e5-9a66-51755aac6b3f",
        "colab": {
          "base_uri": "https://localhost:8080/",
          "height": 495
        }
      },
      "source": [
        "plot_losses(history)"
      ],
      "execution_count": 0,
      "outputs": [
        {
          "output_type": "display_data",
          "data": {
            "image/png": "[encoded data removed]",
            "text/plain": [
              "<Figure size 1080x504 with 1 Axes>"
            ]
          },
          "metadata": {
            "tags": []
          }
        },
        {
          "output_type": "stream",
          "text": [
            "Final Train Loss: 0.07383973335111585\n",
            "Min val_loss: 0.06970516085497297\n"
          ],
          "name": "stdout"
        }
      ]
    },
    {
      "cell_type": "markdown",
      "metadata": {
        "id": "Ys9onk0GRADz",
        "colab_type": "text"
      },
      "source": [
        "Para evaluar su modelo utilice una métrica adecuada para el desbalance presente entre las clases como identificó en el punto b). Tenga presente en este punto el **no evaluar** la clase/símbolo que añadió para realizar *padding* a los *tag*.  \n",
        "*Hint: podría \"truncar\" la salida predicha hasta el largo real de esa sentencia*."
      ]
    },
    {
      "cell_type": "code",
      "metadata": {
        "id": "yecXso_RlCG8",
        "colab_type": "code",
        "colab": {}
      },
      "source": [
        "def predict_and_truncate(model, X_test, y_test):\n",
        "  dataY_pred = model.predict_classes(X_test,verbose=0)\n",
        "\n",
        "  dataY_pred_truncated = list()\n",
        "\n",
        "  y_test_transformed = list()\n",
        "  for example in y_test:\n",
        "      y_test_transformed.append([np.argmax(y, axis=None, out=None) for y in example])\n",
        "  y_test_t_t = list()\n",
        "\n",
        "  sentence_index = 0 #Index allows us to check the same row in the predicted and true dataset\n",
        "  for sentence in X_test:\n",
        "    word_index = 0\n",
        "    for word in sentence:\n",
        "      if word == lemma2idx[\"ANVORGESA\"]:\n",
        "        dataY_pred_truncated.append(dataY_pred[sentence_index][:word_index])\n",
        "        y_test_t_t.append(y_test_transformed[sentence_index][:word_index])\n",
        "        break\n",
        "      word_index += 1\n",
        "    sentence_index += 1\n",
        "    \n",
        "  return dataY_pred_truncated, y_test_t_t"
      ],
      "execution_count": 0,
      "outputs": []
    },
    {
      "cell_type": "code",
      "metadata": {
        "id": "c3z0n6mPN1aD",
        "colab_type": "code",
        "outputId": "bfa7222f-7cdd-4591-c2c5-ffd60b444f85",
        "colab": {
          "base_uri": "https://localhost:8080/",
          "height": 146
        }
      },
      "source": [
        "y_pred, y_test_t = predict_and_truncate(model, X_test, y_test)\n",
        "\n",
        "f1_score_bydata = [f1_score(true, pred ,average='weighted') for true,pred in zip(y_test_t,y_pred) ]\n",
        "print(\"\\nF1 score on test: \", np.mean(f1_score_bydata) )"
      ],
      "execution_count": 0,
      "outputs": [
        {
          "output_type": "stream",
          "text": [
            "/usr/local/lib/python3.6/dist-packages/sklearn/metrics/classification.py:1437: UndefinedMetricWarning: F-score is ill-defined and being set to 0.0 in labels with no predicted samples.\n",
            "  'precision', 'predicted', average, warn_for)\n",
            "/usr/local/lib/python3.6/dist-packages/sklearn/metrics/classification.py:1439: UndefinedMetricWarning: F-score is ill-defined and being set to 0.0 in labels with no true samples.\n",
            "  'recall', 'true', average, warn_for)\n"
          ],
          "name": "stderr"
        },
        {
          "output_type": "stream",
          "text": [
            "\n",
            "F1 score on test:  0.912730488765349\n"
          ],
          "name": "stdout"
        }
      ]
    },
    {
      "cell_type": "markdown",
      "metadata": {
        "id": "VcHVu1L-hWR5",
        "colab_type": "text"
      },
      "source": [
        "Para ignorar las predicciones realizadas en el END (ANVORGESA) se trunca todo lo que vaya posterior a la lectura de dicho termino, luego se procede a obtener una media del f1_score por cada clase donde se toma en cuenta el peso de cada clase.\n",
        "\n",
        "El valor del f1_score obtenido en primera instancia corresponde a 0.91"
      ]
    },
    {
      "cell_type": "markdown",
      "metadata": {
        "id": "3Hy8_K8AhXE8",
        "colab_type": "text"
      },
      "source": [
        "> h) Varíe con seguir entrenando la capa de embedding seteada al definir la arquitectura, ésto es cambiar a *trainable=True*, compare el desempeño y el número de parámetros (entrenables) con lo anterior. Comente"
      ]
    },
    {
      "cell_type": "code",
      "metadata": {
        "id": "MJWqbe_whVFp",
        "colab_type": "code",
        "colab": {}
      },
      "source": [
        "modelt = Sequential()\n",
        "modelt.add(Embedding(input_dim=n_lemmas, output_dim=EMBEDDING_DIM, input_length=max_input_lenght,\n",
        "                    trainable=True, weights = [embedding_matrix]))\n",
        "modelt.add(LSTM(units=100,return_sequences=True))\n",
        "modelt.add(Dropout(0.2))\n",
        "modelt.add(TimeDistributed(Dense(n_labels, activation='softmax')))\n",
        "modelt.compile(loss='categorical_crossentropy', optimizer='adam')"
      ],
      "execution_count": 0,
      "outputs": []
    },
    {
      "cell_type": "markdown",
      "metadata": {
        "id": "XPAMPbnEySHR",
        "colab_type": "text"
      },
      "source": [
        "La variable trainable dentro del Embedding permite al modelo tunear pesos a distintas palabras basadas en su influencia sobre las frase basados en los datos entregados en el conjunto de entrenamiento permitiendole a la red determinar que apariciones de palabras resultan tener una mayor importancia que otras."
      ]
    },
    {
      "cell_type": "code",
      "metadata": {
        "id": "8C1L8MWKh5sG",
        "colab_type": "code",
        "outputId": "d2c9b860-8560-4c9b-c710-5351c02edd45",
        "colab": {
          "base_uri": "https://localhost:8080/",
          "height": 345
        }
      },
      "source": [
        "print(\"\\nModified\")\n",
        "print(modelt.summary())"
      ],
      "execution_count": 0,
      "outputs": [
        {
          "output_type": "stream",
          "text": [
            "\n",
            "Modified\n",
            "_________________________________________________________________\n",
            "Layer (type)                 Output Shape              Param #   \n",
            "=================================================================\n",
            "embedding_2 (Embedding)      (None, 81, 32)            510720    \n",
            "_________________________________________________________________\n",
            "lstm_2 (LSTM)                (None, 81, 100)           53200     \n",
            "_________________________________________________________________\n",
            "dropout_2 (Dropout)          (None, 81, 100)           0         \n",
            "_________________________________________________________________\n",
            "time_distributed_2 (TimeDist (None, 81, 18)            1818      \n",
            "=================================================================\n",
            "Total params: 565,738\n",
            "Trainable params: 565,738\n",
            "Non-trainable params: 0\n",
            "_________________________________________________________________\n",
            "None\n"
          ],
          "name": "stdout"
        }
      ]
    },
    {
      "cell_type": "markdown",
      "metadata": {
        "id": "2rtBW4nQz9Fd",
        "colab_type": "text"
      },
      "source": [
        "Se puede notar que la cantidad de parámetros entrenables aumento hasta la totalidad de los parámetros presentes en la red, esto implica que la mayoría de los pesos que existen en la red se encuentran en la primera parte del modelo."
      ]
    },
    {
      "cell_type": "code",
      "metadata": {
        "id": "Q6pWVZhChVQU",
        "colab_type": "code",
        "colab": {}
      },
      "source": [
        "historyt = modelt.fit(X_train, y_train, validation_data=(X_test, y_test), epochs=15, batch_size=128, verbose=0)"
      ],
      "execution_count": 0,
      "outputs": []
    },
    {
      "cell_type": "code",
      "metadata": {
        "id": "wVaqWeAxvuZ5",
        "colab_type": "code",
        "outputId": "a4ec5198-0de2-453a-a593-5d18c465923b",
        "colab": {
          "base_uri": "https://localhost:8080/",
          "height": 495
        }
      },
      "source": [
        "plot_losses(historyt)"
      ],
      "execution_count": 0,
      "outputs": [
        {
          "output_type": "display_data",
          "data": {
            "image/png": "[encoded data removed]",
            "text/plain": [
              "<Figure size 1080x504 with 1 Axes>"
            ]
          },
          "metadata": {
            "tags": []
          }
        },
        {
          "output_type": "stream",
          "text": [
            "Final Train Loss: 0.027581555563619107\n",
            "Min val_loss: 0.0371317296596272\n"
          ],
          "name": "stdout"
        }
      ]
    },
    {
      "cell_type": "markdown",
      "metadata": {
        "id": "hyWpRc5D1S0z",
        "colab_type": "text"
      },
      "source": [
        ""
      ]
    },
    {
      "cell_type": "code",
      "metadata": {
        "id": "nKYqDk8ohVbc",
        "colab_type": "code",
        "outputId": "771b9945-f153-495d-df0e-942ba52bef67",
        "colab": {
          "base_uri": "https://localhost:8080/",
          "height": 183
        }
      },
      "source": [
        "y_pred, y_test_t = predict_and_truncate(modelt, X_test, y_test)\n",
        "\n",
        "f1_score_bydata2 = [f1_score(true, pred ,average='weighted') for true,pred in zip(y_test_t,y_pred) ]\n",
        "\n",
        "print(\"\\nF1 score original model on test: \", np.mean(f1_score_bydata) )\n",
        "print(\"\\nF1 score new model on test: \", np.mean(f1_score_bydata2) )"
      ],
      "execution_count": 0,
      "outputs": [
        {
          "output_type": "stream",
          "text": [
            "/usr/local/lib/python3.6/dist-packages/sklearn/metrics/classification.py:1437: UndefinedMetricWarning: F-score is ill-defined and being set to 0.0 in labels with no predicted samples.\n",
            "  'precision', 'predicted', average, warn_for)\n",
            "/usr/local/lib/python3.6/dist-packages/sklearn/metrics/classification.py:1439: UndefinedMetricWarning: F-score is ill-defined and being set to 0.0 in labels with no true samples.\n",
            "  'recall', 'true', average, warn_for)\n"
          ],
          "name": "stderr"
        },
        {
          "output_type": "stream",
          "text": [
            "\n",
            "F1 score original model on test:  0.912730488765349\n",
            "\n",
            "F1 score new model on test:  0.9583396231655597\n"
          ],
          "name": "stdout"
        }
      ]
    },
    {
      "cell_type": "markdown",
      "metadata": {
        "id": "TscsCYvMjJ-o",
        "colab_type": "text"
      },
      "source": [
        "El f1_score del modelo entrenado con un embedding entrenable aumenta con respecto al modelo sin, en alrededor de 0.04 unidades."
      ]
    },
    {
      "cell_type": "markdown",
      "metadata": {
        "id": "Flm4gy9mjKJ7",
        "colab_type": "text"
      },
      "source": [
        "> i) Experimente con cambiar la *gate* de recurrencia a una con menos parámetros pero que mantiene la capacidad de memoria de la LSTM, ésta es la compuerta GRU. Comente sobre los resultados esperados y observados."
      ]
    },
    {
      "cell_type": "code",
      "metadata": {
        "id": "52zgqRjKhVfc",
        "colab_type": "code",
        "colab": {}
      },
      "source": [
        "modelg = Sequential()\n",
        "modelg.add(Embedding(input_dim=n_lemmas, output_dim=EMBEDDING_DIM, input_length=max_input_lenght,\n",
        "                    trainable=False, weights = [embedding_matrix]))\n",
        "modelg.add(GRU(units=100,return_sequences=True))\n",
        "modelg.add(Dropout(0.2))\n",
        "modelg.add(TimeDistributed(Dense(n_labels, activation='softmax')))\n",
        "modelg.compile(loss='categorical_crossentropy', optimizer='adam')"
      ],
      "execution_count": 0,
      "outputs": []
    },
    {
      "cell_type": "markdown",
      "metadata": {
        "id": "anvVb0KA1z-t",
        "colab_type": "text"
      },
      "source": [
        "Una compuerta GRU a diferencia de una LSTM se caracteriza por utilizar solo 2 compuertas en lugar de , una de reset y otra de update lo que implica una menor cantidad de parámetros a entrenar, esto lleva a pensar que esta compuerta resulta ser mucho mas eficiente en la velocidad de entrenamiento que la primera, de acuerdo a la literatura posee un rendimiento que va a la par del LSTM.\n",
        "\n",
        "La compuerta Reset determina como combinar los elementos pasados que ha recibido la red mientras que la compuerta Update determina que tanta información retener de los inputs anteriores."
      ]
    },
    {
      "cell_type": "code",
      "metadata": {
        "id": "-DrWhlU4hVX0",
        "colab_type": "code",
        "outputId": "90222a36-b460-42ae-c1cd-6761c1535063",
        "colab": {
          "base_uri": "https://localhost:8080/",
          "height": 345
        }
      },
      "source": [
        "print(\"\\nGRU\")\n",
        "print(modelg.summary())"
      ],
      "execution_count": 0,
      "outputs": [
        {
          "output_type": "stream",
          "text": [
            "\n",
            "GRU\n",
            "_________________________________________________________________\n",
            "Layer (type)                 Output Shape              Param #   \n",
            "=================================================================\n",
            "embedding_3 (Embedding)      (None, 81, 32)            510720    \n",
            "_________________________________________________________________\n",
            "gru_1 (GRU)                  (None, 81, 100)           39900     \n",
            "_________________________________________________________________\n",
            "dropout_3 (Dropout)          (None, 81, 100)           0         \n",
            "_________________________________________________________________\n",
            "time_distributed_3 (TimeDist (None, 81, 18)            1818      \n",
            "=================================================================\n",
            "Total params: 552,438\n",
            "Trainable params: 41,718\n",
            "Non-trainable params: 510,720\n",
            "_________________________________________________________________\n",
            "None\n"
          ],
          "name": "stdout"
        }
      ]
    },
    {
      "cell_type": "markdown",
      "metadata": {
        "id": "E7VREwAN3gmC",
        "colab_type": "text"
      },
      "source": [
        "La cantidad de parámetros entrenables disminuye en alrededor de 15000 unidades."
      ]
    },
    {
      "cell_type": "code",
      "metadata": {
        "id": "tORQr_W1k6cD",
        "colab_type": "code",
        "colab": {}
      },
      "source": [
        "historyg = modelg.fit(X_train, y_train, validation_data=(X_test, y_test), epochs=15, batch_size=128, verbose=0)"
      ],
      "execution_count": 0,
      "outputs": []
    },
    {
      "cell_type": "code",
      "metadata": {
        "id": "-1ZFI5Zfv5qY",
        "colab_type": "code",
        "outputId": "207770ac-d202-4b7c-9c25-e3ab727d3bfe",
        "colab": {
          "base_uri": "https://localhost:8080/",
          "height": 495
        }
      },
      "source": [
        "plot_losses(historyg)"
      ],
      "execution_count": 0,
      "outputs": [
        {
          "output_type": "display_data",
          "data": {
            "image/png": "[encoded data removed]",
            "text/plain": [
              "<Figure size 1080x504 with 1 Axes>"
            ]
          },
          "metadata": {
            "tags": []
          }
        },
        {
          "output_type": "stream",
          "text": [
            "Final Train Loss: 0.06881296578643473\n",
            "Min val_loss: 0.06589109818221736\n"
          ],
          "name": "stdout"
        }
      ]
    },
    {
      "cell_type": "code",
      "metadata": {
        "id": "JS0W__ximwjs",
        "colab_type": "code",
        "outputId": "23b66492-0cbd-40e2-b559-870188ae17a2",
        "colab": {
          "base_uri": "https://localhost:8080/",
          "height": 219
        }
      },
      "source": [
        "y_pred, y_test_t = predict_and_truncate(modelg, X_test, y_test)\n",
        "\n",
        "f1_score_bydata3 = [f1_score(true, pred ,average='weighted') for true,pred in zip(y_test_t,y_pred) ]\n",
        "\n",
        "print(\"\\nF1 score original model on test: \", np.mean(f1_score_bydata) )\n",
        "print(\"\\nF1 score trainable model on test: \", np.mean(f1_score_bydata2) )\n",
        "print(\"\\nF1 score gru model on test: \", np.mean(f1_score_bydata3) )"
      ],
      "execution_count": 0,
      "outputs": [
        {
          "output_type": "stream",
          "text": [
            "/usr/local/lib/python3.6/dist-packages/sklearn/metrics/classification.py:1437: UndefinedMetricWarning: F-score is ill-defined and being set to 0.0 in labels with no predicted samples.\n",
            "  'precision', 'predicted', average, warn_for)\n",
            "/usr/local/lib/python3.6/dist-packages/sklearn/metrics/classification.py:1439: UndefinedMetricWarning: F-score is ill-defined and being set to 0.0 in labels with no true samples.\n",
            "  'recall', 'true', average, warn_for)\n"
          ],
          "name": "stderr"
        },
        {
          "output_type": "stream",
          "text": [
            "\n",
            "F1 score original model on test:  0.912730488765349\n",
            "\n",
            "F1 score trainable model on test:  0.9583396231655597\n",
            "\n",
            "F1 score gru model on test:  0.91869549818392\n"
          ],
          "name": "stdout"
        }
      ]
    },
    {
      "cell_type": "markdown",
      "metadata": {
        "id": "pkf0Kq1v4FRs",
        "colab_type": "text"
      },
      "source": [
        "Si bien, el modelo entrenado en este caso no supera el score obtenido por el modelo con embedding entrenable si supera el score del modelo basico entrenado con compuertas LSTM, por lo menos en este caso la compuerta GRU obtiene un mejor rendimiento que la clasica."
      ]
    },
    {
      "cell_type": "markdown",
      "metadata": {
        "id": "Vvwwocj5nRhZ",
        "colab_type": "text"
      },
      "source": [
        "> j) Algunos autores señalan la importante dependencia que existe en texto, no solo con las palabras anteriores, sino que con las que siguen. Mejore la red utilizando una red neuronal recurrente Bidireccional, es decir, con recurrencia en ambas direcciones sobre la secuencia de *lemmas*. \n",
        "\n"
      ]
    },
    {
      "cell_type": "markdown",
      "metadata": {
        "id": "hOn4hzdZ4y0v",
        "colab_type": "text"
      },
      "source": [
        "> **Comente cuál debiera ser la forma correcta de usar el parámetro merge_mode (concatenar, multiplicar, sumar o promediar) para este caso.** \n",
        "\n",
        "Al intentar determinar el contexto de una frase con respecto a las palabras utilizadas se determina que es mas conveniente utilizar la concatenación para realizar este ejercicio, esto para evitar la posible perdida de información a la que se exponen los otros tipos de operación merge."
      ]
    },
    {
      "cell_type": "markdown",
      "metadata": {
        "id": "dCTNTHxg40UP",
        "colab_type": "text"
      },
      "source": [
        "> **Además comente las transformaciones que sufre el patrón de entrada al pasar por las capas. ¿Mejora o empeora el desempeño? Analice.**"
      ]
    },
    {
      "cell_type": "code",
      "metadata": {
        "id": "mMHGUxVBnSsO",
        "colab_type": "code",
        "colab": {}
      },
      "source": [
        "modelb = Sequential()\n",
        "modelb.add(Embedding(input_dim=n_lemmas, output_dim=EMBEDDING_DIM, input_length=max_input_lenght,\n",
        "                    trainable=False, weights = [embedding_matrix]))\n",
        "gate_layer = LSTM(units=100,return_sequences=True)\n",
        "modelb.add(Bidirectional(gate_layer, merge_mode='concat'))\n",
        "modelb.add(Dropout(0.2))\n",
        "modelb.add(TimeDistributed(Dense(n_labels, activation='softmax')))\n",
        "modelb.compile(loss='categorical_crossentropy', optimizer='adam')"
      ],
      "execution_count": 0,
      "outputs": []
    },
    {
      "cell_type": "code",
      "metadata": {
        "id": "KLBTqg5lY1UP",
        "colab_type": "code",
        "outputId": "54e904a5-02e6-4d12-dccd-249e84861c42",
        "colab": {
          "base_uri": "https://localhost:8080/",
          "height": 290
        }
      },
      "source": [
        "modelb.summary()"
      ],
      "execution_count": 0,
      "outputs": [
        {
          "output_type": "stream",
          "text": [
            "_________________________________________________________________\n",
            "Layer (type)                 Output Shape              Param #   \n",
            "=================================================================\n",
            "embedding_4 (Embedding)      (None, 81, 32)            510720    \n",
            "_________________________________________________________________\n",
            "bidirectional_1 (Bidirection (None, 81, 200)           106400    \n",
            "_________________________________________________________________\n",
            "dropout_4 (Dropout)          (None, 81, 200)           0         \n",
            "_________________________________________________________________\n",
            "time_distributed_4 (TimeDist (None, 81, 18)            3618      \n",
            "=================================================================\n",
            "Total params: 620,738\n",
            "Trainable params: 110,018\n",
            "Non-trainable params: 510,720\n",
            "_________________________________________________________________\n"
          ],
          "name": "stdout"
        }
      ]
    },
    {
      "cell_type": "markdown",
      "metadata": {
        "id": "21I8p4nbZW-A",
        "colab_type": "text"
      },
      "source": [
        "Al agregar la capa bidireccional la cantidad de parámetros entrenables se duplica, se asume que al elegir la operación de concatenación se duplican las cantidad celdas existentes en la capa, esto se debe a que la primera mitad o la original estaran encargadas de trabajar con las secuencias en el orden original mientras que las restantes se enfocaran en el aprendizaje de la secuencia al reves. Esto lleva a pensar que la concatenación de secuencias puede significar un mayor costo operacional, pero los datos analizables seran más ricos en información."
      ]
    },
    {
      "cell_type": "code",
      "metadata": {
        "id": "Ni0Zb9pPnSws",
        "colab_type": "code",
        "colab": {}
      },
      "source": [
        "historyb = modelb.fit(X_train, y_train, validation_data=(X_test, y_test), epochs=15, batch_size=128, verbose=0)"
      ],
      "execution_count": 0,
      "outputs": []
    },
    {
      "cell_type": "code",
      "metadata": {
        "id": "fP_pTra-wEsP",
        "colab_type": "code",
        "outputId": "e842ee0f-9547-4b85-c010-be7ec60019d3",
        "colab": {
          "base_uri": "https://localhost:8080/",
          "height": 495
        }
      },
      "source": [
        "plot_losses(historyb)"
      ],
      "execution_count": 0,
      "outputs": [
        {
          "output_type": "display_data",
          "data": {
            "image/png": "[encoded data removed]",
            "text/plain": [
              "<Figure size 1080x504 with 1 Axes>"
            ]
          },
          "metadata": {
            "tags": []
          }
        },
        {
          "output_type": "stream",
          "text": [
            "Final Train Loss: 0.059844190091695136\n",
            "Min val_loss: 0.05744987724908619\n"
          ],
          "name": "stdout"
        }
      ]
    },
    {
      "cell_type": "code",
      "metadata": {
        "id": "0BC-txyhnSn7",
        "colab_type": "code",
        "outputId": "da0d990c-4843-4bdb-e5b4-636bf1729933",
        "colab": {
          "base_uri": "https://localhost:8080/",
          "height": 255
        }
      },
      "source": [
        "y_pred, y_test_t = predict_and_truncate(modelb, X_test, y_test)\n",
        "\n",
        "f1_score_bydata4 = [f1_score(true, pred ,average='weighted') for true,pred in zip(y_test_t,y_pred) ]\n",
        "\n",
        "print(\"\\nF1 score original model on test: \", np.mean(f1_score_bydata) )\n",
        "print(\"\\nF1 score trainable model on test: \", np.mean(f1_score_bydata2) )\n",
        "print(\"\\nF1 score gru model on test: \", np.mean(f1_score_bydata3) )\n",
        "print(\"\\nF1 score bidirectional model on test: \", np.mean(f1_score_bydata4) )"
      ],
      "execution_count": 0,
      "outputs": [
        {
          "output_type": "stream",
          "text": [
            "/usr/local/lib/python3.6/dist-packages/sklearn/metrics/classification.py:1437: UndefinedMetricWarning: F-score is ill-defined and being set to 0.0 in labels with no predicted samples.\n",
            "  'precision', 'predicted', average, warn_for)\n",
            "/usr/local/lib/python3.6/dist-packages/sklearn/metrics/classification.py:1439: UndefinedMetricWarning: F-score is ill-defined and being set to 0.0 in labels with no true samples.\n",
            "  'recall', 'true', average, warn_for)\n"
          ],
          "name": "stderr"
        },
        {
          "output_type": "stream",
          "text": [
            "\n",
            "F1 score original model on test:  0.912730488765349\n",
            "\n",
            "F1 score trainable model on test:  0.9583396231655597\n",
            "\n",
            "F1 score gru model on test:  0.91869549818392\n",
            "\n",
            "F1 score bidirectional model on test:  0.9299284220782721\n"
          ],
          "name": "stdout"
        }
      ]
    },
    {
      "cell_type": "markdown",
      "metadata": {
        "id": "4jRCw0aFbFj_",
        "colab_type": "text"
      },
      "source": [
        "El aplicar la bidireccionalidad de la secuencia si mejora en parte el desempeño de la red, pero solo por 0.01, tambien logra superar el desempeño del modelo con compuertas gru, pero hasta el momento la capacidad de realizar un embedding entrenable ha resultado ser lo mas efectivo a cambio de un mayor costo de ejecución."
      ]
    },
    {
      "cell_type": "markdown",
      "metadata": {
        "id": "Bftq_caqjc4A",
        "colab_type": "text"
      },
      "source": [
        "> k) En base a lo experimentado, **mejore el desempeño de las redes encontradas**, ya sea utilizando y/o combinando las distintas variaciones que se hicieron en los distintos ítemes, como bien alguna mejora en el pre-proceso de los datos (largo de secuencia, el tipo de *padding* o alguna otra), agregar mayor profundidad, variar el número de unidades/neuronas, utilizando otra *gate* de recurrencia (en https://keras.io/layers/recurrent/), cambiar los vectores de *embedding* por unos entrenados en otros dataset más grandes (https://nlp.stanford.edu/projects/glove/), entre otros."
      ]
    },
    {
      "cell_type": "markdown",
      "metadata": {
        "id": "RMdI0OpX00B3",
        "colab_type": "text"
      },
      "source": [
        "Para el mejoramiento del desempeño del modelo se decide por utilizar una matriz de embedding entrenada por un dataset mas grande, particularmente para generar un vector de 200 dimensiones (se comparo con vectores de 50, 100 y 200), ademas se permitio al embedding ser entrenado con el conjunto de entrenamiento para poder ajustar los vectores al contexto que se esta trabajando actualmente."
      ]
    },
    {
      "cell_type": "code",
      "metadata": {
        "id": "yhcOHOVedaGR",
        "colab_type": "code",
        "outputId": "b21c4fb0-9a46-4860-e2ed-9f1ff44fcdd7",
        "colab": {
          "base_uri": "https://localhost:8080/",
          "height": 35
        }
      },
      "source": [
        "embeddings_index2 = dict()\n",
        "EMBEDDING_DIM2 = 200\n",
        "\n",
        "f = open('drive/My Drive/glove.6B.'+str(EMBEDDING_DIM2)+'d.txt')\n",
        "for line in f:\n",
        "    values = line.split()\n",
        "    word = values[0]\n",
        "    coefs = np.asarray(values[1:], dtype='float32')\n",
        "    embeddings_index2[word] = coefs\n",
        "f.close()\n",
        "\n",
        "print('Found %s word vectors.' % len(embeddings_index2))"
      ],
      "execution_count": 0,
      "outputs": [
        {
          "output_type": "stream",
          "text": [
            "Found 400000 word vectors.\n"
          ],
          "name": "stdout"
        }
      ]
    },
    {
      "cell_type": "code",
      "metadata": {
        "id": "nHp_IfjVe8ft",
        "colab_type": "code",
        "colab": {}
      },
      "source": [
        "embedding_matrix2 = np.zeros((n_lemmas, EMBEDDING_DIM2))\n",
        "for word, i in lemma2idx.items():\n",
        "    embedding_vector = embeddings_index2.get(word)\n",
        "    if embedding_vector is not None: #if word does not has embedding\n",
        "        embedding_matrix2[i] = embedding_vector"
      ],
      "execution_count": 0,
      "outputs": []
    },
    {
      "cell_type": "markdown",
      "metadata": {
        "id": "AbxG1O4r3dp-",
        "colab_type": "text"
      },
      "source": [
        "Se utilizo una compuerta GRU debido a los mejores resultados obtenidos al comparar con LSTM, ademas se aumento la cantidad de celdas de la capa en 50 unidades.\n",
        "\n",
        "Ademas, se utilizo la información bidireccionalmente concatenado las secuencias."
      ]
    },
    {
      "cell_type": "code",
      "metadata": {
        "id": "uAQsy8NijdEE",
        "colab_type": "code",
        "colab": {}
      },
      "source": [
        "modelf = Sequential()\n",
        "modelf.add(Embedding(input_dim=n_lemmas, output_dim=EMBEDDING_DIM2, input_length=max_input_lenght,\n",
        "                     trainable=True, weights = [embedding_matrix2]))\n",
        "gate_layer = GRU(units=150,return_sequences=True)\n",
        "modelf.add(Bidirectional(gate_layer, merge_mode='concat'))\n",
        "modelf.add(Dropout(0.2))\n",
        "modelf.add(TimeDistributed(Dense(n_labels, activation='softmax')))\n",
        "modelf.compile(loss='categorical_crossentropy', optimizer='adam')"
      ],
      "execution_count": 0,
      "outputs": []
    },
    {
      "cell_type": "code",
      "metadata": {
        "id": "U6AzILQljdHz",
        "colab_type": "code",
        "colab": {}
      },
      "source": [
        "historyf = modelf.fit(X_train, y_train, validation_data=(X_test, y_test), epochs=15, batch_size=128, verbose=0)"
      ],
      "execution_count": 0,
      "outputs": []
    },
    {
      "cell_type": "code",
      "metadata": {
        "id": "zJLVTmVBwLpe",
        "colab_type": "code",
        "outputId": "359d4678-adfc-4a71-83b0-bb0b2c763d69",
        "colab": {
          "base_uri": "https://localhost:8080/",
          "height": 495
        }
      },
      "source": [
        "plot_losses(historyf)"
      ],
      "execution_count": 0,
      "outputs": [
        {
          "output_type": "display_data",
          "data": {
            "image/png": "[encoded data removed]",
            "text/plain": [
              "<Figure size 1080x504 with 1 Axes>"
            ]
          },
          "metadata": {
            "tags": []
          }
        },
        {
          "output_type": "stream",
          "text": [
            "Final Train Loss: 0.004103441434898229\n",
            "Min val_loss: 0.027699927657438728\n"
          ],
          "name": "stdout"
        }
      ]
    },
    {
      "cell_type": "code",
      "metadata": {
        "id": "bSfph5sZjdLU",
        "colab_type": "code",
        "outputId": "d2a35396-7ba8-42a9-e917-7ed74d61646c",
        "colab": {
          "base_uri": "https://localhost:8080/",
          "height": 292
        }
      },
      "source": [
        "y_pred, y_test_t = predict_and_truncate(modelf, X_test, y_test)\n",
        "\n",
        "f1_score_bydata5 = [f1_score(true, pred ,average='weighted') for true,pred in zip(y_test_t,y_pred) ]\n",
        "\n",
        "print(\"\\nF1 score original model on test: \", np.mean(f1_score_bydata) )\n",
        "print(\"\\nF1 score trainable model on test: \", np.mean(f1_score_bydata2) )\n",
        "print(\"\\nF1 score gru model on test: \", np.mean(f1_score_bydata3) )\n",
        "print(\"\\nF1 score bidirectional model on test: \", np.mean(f1_score_bydata4) )\n",
        "print(\"\\nF1 score bidirectional and gru model on test: \", np.mean(f1_score_bydata5) )"
      ],
      "execution_count": 0,
      "outputs": [
        {
          "output_type": "stream",
          "text": [
            "/usr/local/lib/python3.6/dist-packages/sklearn/metrics/classification.py:1437: UndefinedMetricWarning: F-score is ill-defined and being set to 0.0 in labels with no predicted samples.\n",
            "  'precision', 'predicted', average, warn_for)\n",
            "/usr/local/lib/python3.6/dist-packages/sklearn/metrics/classification.py:1439: UndefinedMetricWarning: F-score is ill-defined and being set to 0.0 in labels with no true samples.\n",
            "  'recall', 'true', average, warn_for)\n"
          ],
          "name": "stderr"
        },
        {
          "output_type": "stream",
          "text": [
            "\n",
            "F1 score original model on test:  0.912730488765349\n",
            "\n",
            "F1 score trainable model on test:  0.9583396231655597\n",
            "\n",
            "F1 score gru model on test:  0.91869549818392\n",
            "\n",
            "F1 score bidirectional model on test:  0.9299284220782721\n",
            "\n",
            "F1 score bidirectional and gru model on test:  0.9762138511822079\n"
          ],
          "name": "stdout"
        }
      ]
    },
    {
      "cell_type": "markdown",
      "metadata": {
        "id": "_pgojUJv37Ny",
        "colab_type": "text"
      },
      "source": [
        "Se puede ver una mejora significativa en comparación a los otros modelos implementados, el f1_score supera al mejor modelo encontrado hasta ahora (embedding entrenable) por lo que se logra alcanzar el objetivo de la pregunta. Dentro de los cambios mas significativos se destaca la utilización de un embedding entrenado con un dataset mas extenso."
      ]
    },
    {
      "cell_type": "markdown",
      "metadata": {
        "id": "O4M28m3ikT99",
        "colab_type": "text"
      },
      "source": [
        "> l) Utilice la red con mejor desempeño encontrada, idealmente la encontrada en (j), y **muestre las predicciones** del *NER tager*, sobre algún ejemplo de pruebas, comente. "
      ]
    },
    {
      "cell_type": "code",
      "metadata": {
        "id": "HhbUvFlK1kiG",
        "colab_type": "code",
        "colab": {}
      },
      "source": [
        "inv_lemma = {v: k for k, v in lemma2idx.items()}\n",
        "inv_labels = {v: k for k, v in lab2idx.items()}"
      ],
      "execution_count": 0,
      "outputs": []
    },
    {
      "cell_type": "code",
      "metadata": {
        "id": "ygOUe4nJ5F-P",
        "colab_type": "code",
        "colab": {}
      },
      "source": [
        "idx = np.random.choice(np.arange(y_test.shape[0]), size=7, replace=False)"
      ],
      "execution_count": 0,
      "outputs": []
    },
    {
      "cell_type": "code",
      "metadata": {
        "id": "t4YRvl425R06",
        "colab_type": "code",
        "outputId": "107031ca-93f9-4084-835f-e93d22c54780",
        "colab": {
          "base_uri": "https://localhost:8080/",
          "height": 1000
        }
      },
      "source": [
        "for i in idx:\n",
        "  p = modelf.predict([[X_test[i]]])  #(np.array([X_test[0]]))\n",
        "  p = np.argmax(p, axis=-1)\n",
        "  labels_list = list(labels)\n",
        "  lemmas_list = list(lemmas)\n",
        "  print(\"\\n{:15}: {:7} , {}\".format(\"Lemma\", \"Pred\", \"True\"))\n",
        "  for word,pred,true in zip(X_test[i],p[0],y_test[i]):\n",
        "      if not word == 15959:\n",
        "          print(\"{:15}: {:7} | {}\".format(inv_lemma[word],inv_labels[pred],inv_labels[np.argmax(true, axis=None, out=None)]))"
      ],
      "execution_count": 0,
      "outputs": [
        {
          "output_type": "stream",
          "text": [
            "\n",
            "Lemma          : Pred    , True\n",
            "the            : O       | O\n",
            "exchang        : O       | O\n",
            "'s             : O       | O\n",
            "secur          : O       | O\n",
            "chief          : O       | O\n",
            "moham          : B-per   | B-per\n",
            "aslam          : I-per   | I-per\n",
            "said           : O       | O\n",
            "investor       : O       | O\n",
            "began          : O       | O\n",
            "smash          : O       | O\n",
            "window         : O       | O\n",
            "after          : O       | O\n",
            "the            : O       | O\n",
            "administr      : O       | O\n",
            "declin         : O       | O\n",
            "to             : O       | O\n",
            "suspend        : O       | O\n",
            "trade          : O       | O\n",
            ".              : O       | O\n",
            "\n",
            "Lemma          : Pred    , True\n",
            "today          : B-tim   | B-tim\n",
            "'s             : O       | O\n",
            "visit          : O       | O\n",
            "come           : O       | O\n",
            "ahead          : O       | O\n",
            "of             : O       | O\n",
            "a              : O       | O\n",
            "summit         : O       | O\n",
            "in             : O       | O\n",
            "brazil         : B-geo   | B-geo\n",
            "next           : O       | O\n",
            "week           : O       | O\n",
            ",              : O       | O\n",
            "where          : O       | O\n",
            "latin          : O       | O\n",
            "american       : B-gpe   | B-gpe\n",
            "and            : O       | O\n",
            "caribbean      : B-geo   | B-geo\n",
            "leader         : O       | O\n",
            "will           : O       | O\n",
            "gather         : O       | O\n",
            "for            : O       | O\n",
            "talk           : O       | O\n",
            ".              : O       | O\n",
            "\n",
            "Lemma          : Pred    , True\n",
            "the            : O       | O\n",
            "u.s.           : B-org   | B-org\n",
            "senat          : I-org   | I-org\n",
            "pass           : O       | O\n",
            "the            : O       | O\n",
            "bill           : O       | O\n",
            "thursday       : B-tim   | B-tim\n",
            ",              : O       | O\n",
            "after          : O       | O\n",
            "a              : O       | O\n",
            "new            : O       | O\n",
            "report         : O       | O\n",
            "show           : O       | O\n",
            "the            : O       | O\n",
            "number         : O       | O\n",
            "of             : O       | O\n",
            "unemploy       : O       | O\n",
            "american       : B-gpe   | B-gpe\n",
            "sign           : O       | O\n",
            "up             : O       | O\n",
            "for            : O       | O\n",
            "benefit        : O       | O\n",
            "for            : O       | O\n",
            "the            : O       | O\n",
            "first          : B-tim   | O\n",
            "time           : I-tim   | O\n",
            "grew           : O       | O\n",
            "to             : O       | O\n",
            "the            : O       | O\n",
            "highest        : O       | O\n",
            "level          : O       | O\n",
            "in             : O       | O\n",
            "16             : B-tim   | B-tim\n",
            "year           : O       | O\n",
            ".              : O       | O\n",
            "\n",
            "Lemma          : Pred    , True\n",
            "twelv          : O       | O\n",
            "peopl          : O       | O\n",
            "were           : O       | O\n",
            "arrest         : O       | O\n",
            ".              : O       | O\n",
            "\n",
            "Lemma          : Pred    , True\n",
            "the            : O       | O\n",
            "intern         : O       | B-org\n",
            "crimin         : I-org   | I-org\n",
            "tribun         : I-org   | I-org\n",
            "for            : I-org   | I-org\n",
            "rwanda         : I-org   | I-org\n",
            ",              : O       | O\n",
            "base           : O       | O\n",
            "in             : O       | O\n",
            "tanzania       : B-geo   | B-geo\n",
            ",              : O       | O\n",
            "found          : O       | O\n",
            "dominiqu       : B-per   | B-per\n",
            "ntawukulilyayo : I-per   | I-per\n",
            "guilti         : O       | O\n",
            "of             : O       | O\n",
            "genocid        : O       | O\n",
            ".              : O       | O\n",
            "\n",
            "Lemma          : Pred    , True\n",
            "the            : O       | O\n",
            "statement      : O       | O\n",
            "said           : O       | O\n",
            "the            : O       | O\n",
            "concern        : O       | O\n",
            "were           : O       | O\n",
            "notabl         : O       | O\n",
            "in             : O       | O\n",
            "the            : O       | O\n",
            "area           : O       | O\n",
            "of             : O       | O\n",
            "load           : O       | O\n",
            ",              : O       | O\n",
            "transport      : O       | O\n",
            "of             : O       | O\n",
            "danger         : O       | O\n",
            "materi         : O       | O\n",
            ",              : O       | O\n",
            "navig          : O       | O\n",
            "document       : O       | O\n",
            "and            : O       | O\n",
            "tire           : O       | O\n",
            "mainten        : O       | O\n",
            ".              : O       | O\n",
            "\n",
            "Lemma          : Pred    , True\n",
            "the            : O       | O\n",
            "epicent        : O       | O\n",
            "of             : O       | O\n",
            "monday         : B-tim   | B-tim\n",
            "'s             : O       | O\n",
            "7.9            : O       | O\n",
            "magnitud       : O       | O\n",
            "earthquak      : O       | O\n",
            "was            : O       | O\n",
            "in             : O       | O\n",
            "sichuan        : B-geo   | B-geo\n",
            ",              : O       | O\n",
            "and            : O       | O\n",
            "most           : O       | O\n",
            "of             : O       | O\n",
            "the            : O       | O\n",
            "confirm        : O       | O\n",
            "death          : O       | O\n",
            "from           : O       | O\n",
            "the            : O       | O\n",
            "quak           : O       | O\n",
            "are            : O       | O\n",
            "in             : O       | O\n",
            "the            : O       | O\n",
            "provinc        : O       | O\n",
            ".              : O       | O\n"
          ],
          "name": "stdout"
        }
      ]
    },
    {
      "cell_type": "markdown",
      "metadata": {
        "id": "0FiRrwbg7cFm",
        "colab_type": "text"
      },
      "source": [
        "Se puede notar que en general las frases estan bien catalogadas. Los errores comunes detectados dentro de los casos observados son etiquetas a palabras que no son suficientes para determinar el contexto o que por lo menos en las etiquetas reales no son suficientes, pero en aquellas palabras donde se supone ya es posible determinarlo no se logra detectar ningun error."
      ]
    }
  ]
}