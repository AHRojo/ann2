{
  "nbformat": 4,
  "nbformat_minor": 0,
  "metadata": {
    "colab": {
      "name": "Pregunta_3_ann_2.ipynb",
      "version": "0.3.2",
      "provenance": [],
      "collapsed_sections": []
    },
    "language_info": {
      "codemirror_mode": {
        "name": "ipython",
        "version": 3
      },
      "file_extension": ".py",
      "mimetype": "text/x-python",
      "name": "python",
      "nbconvert_exporter": "python",
      "pygments_lexer": "ipython3",
      "version": "3.6.7"
    },
    "kernelspec": {
      "display_name": "Python 3",
      "language": "python",
      "name": "python3"
    },
    "accelerator": "GPU"
  },
  "cells": [
    {
      "cell_type": "markdown",
      "metadata": {
        "id": "tgvLjkSrtEx6",
        "colab_type": "text"
      },
      "source": [
        "<font size=5>\n",
        "  Manuel Weitzman 201473501-4 --- Andrés Huerta 201473544-8\n",
        "  </font>"
      ]
    },
    {
      "cell_type": "code",
      "metadata": {
        "colab_type": "code",
        "id": "BH5qICi2jb5y",
        "outputId": "2d36a359-9bef-4ebb-e37a-65ccf3d0ca22",
        "colab": {
          "base_uri": "https://localhost:8080/",
          "height": 34
        }
      },
      "source": [
        "#csv desde drive\n",
        "from google.colab import drive\n",
        "drive.mount('/content/drive')"
      ],
      "execution_count": 0,
      "outputs": [
        {
          "output_type": "stream",
          "text": [
            "Drive already mounted at /content/drive; to attempt to forcibly remount, call drive.mount(\"/content/drive\", force_remount=True).\n"
          ],
          "name": "stdout"
        }
      ]
    },
    {
      "cell_type": "code",
      "metadata": {
        "colab_type": "code",
        "id": "0HuoKOpHl0XY",
        "outputId": "72a3bd18-e156-4586-82fe-a3df36481149",
        "colab": {
          "base_uri": "https://localhost:8080/",
          "height": 34
        }
      },
      "source": [
        "from keras.layers import LSTM, Embedding, Dense, Dropout,TimeDistributed, Input, Bidirectional\n",
        "from sklearn.model_selection import train_test_split\n",
        "from keras.preprocessing import sequence\n",
        "import numpy as np\n",
        "import matplotlib.pyplot as plt\n",
        "import pandas as pd\n",
        "import string\n",
        "\n",
        "from sklearn.feature_extraction.text import TfidfVectorizer\n",
        "from sklearn.preprocessing import MultiLabelBinarizer\n",
        "from sklearn.metrics import f1_score, precision_score, recall_score\n",
        "from keras.layers import Conv1D,MaxPool1D,GlobalMaxPooling1D,GlobalAveragePooling1D,BatchNormalization, InputLayer\n",
        "from keras.layers import RepeatVector\n",
        "from keras.models import Sequential\n",
        "from keras.layers import Embedding,CuDNNGRU\n",
        "from keras.layers import GRU, TimeDistributed,Dense"
      ],
      "execution_count": 0,
      "outputs": [
        {
          "output_type": "stream",
          "text": [
            "Using TensorFlow backend.\n"
          ],
          "name": "stderr"
        }
      ]
    },
    {
      "cell_type": "markdown",
      "metadata": {
        "colab_type": "text",
        "id": "_J8_BgJNjrwx"
      },
      "source": [
        "## 3. *Encoder-Decoder* sobre Texto\n",
        "\n",
        "Trabajos recientes en redes neuronales han demostrado que se puede aplicar a problemas bastante complejos gracias a la flexibilidad la definición de las redes, además de que se pueden adaptar a distintos tipos de datos brutos (dominios). Con el objetivo de explorar el enfoque anterior de *traducción* de algun tipo de dato, en esta sección deberá realizarlo con texto para traducción de un lenguaje humano a otro (e.g. inglés a alemán, chino a ruso)."
      ]
    },
    {
      "cell_type": "code",
      "metadata": {
        "colab_type": "code",
        "id": "3bpddwLRlmkR",
        "colab": {}
      },
      "source": [
        "df = pd.read_csv(\"drive/My Drive/Colab Notebooks/por.txt\", sep=\"\\t\", names=[\"Source\",\"Target\"])"
      ],
      "execution_count": 0,
      "outputs": []
    },
    {
      "cell_type": "markdown",
      "metadata": {
        "colab_type": "text",
        "id": "18ov-iPJl81p"
      },
      "source": [
        "> a) Visualice los datos ¿Qué es la entrada y qué es la salida? Comente sobre los múltiples significados/sinónimos que puede tener una palabra al ser traducida y cómo propondría arreglar eso. *se espera que pueda implementarlo*"
      ]
    },
    {
      "cell_type": "code",
      "metadata": {
        "id": "nWsfliM_So3j",
        "colab_type": "code",
        "outputId": "afbcf4a5-ff80-443a-8b27-1ef1ff8b5aae",
        "colab": {
          "base_uri": "https://localhost:8080/",
          "height": 34
        }
      },
      "source": [
        "print(\"Cantidad de ejemplos:\",len(df))"
      ],
      "execution_count": 0,
      "outputs": [
        {
          "output_type": "stream",
          "text": [
            "Cantidad de ejemplos: 135671\n"
          ],
          "name": "stdout"
        }
      ]
    },
    {
      "cell_type": "markdown",
      "metadata": {
        "id": "HqedIStUS5bm",
        "colab_type": "text"
      },
      "source": [
        "Se cuenta con un total de 135671 ejemplos para preparar y probar la red neuronal, a diferencia de otros conjuntos no hay una deficiencia de casos por lo que no deberia ser necesario implementar data augmentation"
      ]
    },
    {
      "cell_type": "code",
      "metadata": {
        "colab_type": "code",
        "id": "bxMZv99Cl3Ik",
        "outputId": "531b7daa-3b46-4595-d107-2a2e2db5fbfd",
        "colab": {
          "base_uri": "https://localhost:8080/",
          "height": 359
        }
      },
      "source": [
        "df.head(10)"
      ],
      "execution_count": 0,
      "outputs": [
        {
          "output_type": "execute_result",
          "data": {
            "text/html": [
              "<div>\n",
              "<style scoped>\n",
              "    .dataframe tbody tr th:only-of-type {\n",
              "        vertical-align: middle;\n",
              "    }\n",
              "\n",
              "    .dataframe tbody tr th {\n",
              "        vertical-align: top;\n",
              "    }\n",
              "\n",
              "    .dataframe thead th {\n",
              "        text-align: right;\n",
              "    }\n",
              "</style>\n",
              "<table border=\"1\" class=\"dataframe\">\n",
              "  <thead>\n",
              "    <tr style=\"text-align: right;\">\n",
              "      <th></th>\n",
              "      <th>Source</th>\n",
              "      <th>Target</th>\n",
              "    </tr>\n",
              "  </thead>\n",
              "  <tbody>\n",
              "    <tr>\n",
              "      <th>0</th>\n",
              "      <td>Go.</td>\n",
              "      <td>Vai.</td>\n",
              "    </tr>\n",
              "    <tr>\n",
              "      <th>1</th>\n",
              "      <td>Go.</td>\n",
              "      <td>Vá.</td>\n",
              "    </tr>\n",
              "    <tr>\n",
              "      <th>2</th>\n",
              "      <td>Hi.</td>\n",
              "      <td>Oi.</td>\n",
              "    </tr>\n",
              "    <tr>\n",
              "      <th>3</th>\n",
              "      <td>Run!</td>\n",
              "      <td>Corre!</td>\n",
              "    </tr>\n",
              "    <tr>\n",
              "      <th>4</th>\n",
              "      <td>Run!</td>\n",
              "      <td>Corra!</td>\n",
              "    </tr>\n",
              "    <tr>\n",
              "      <th>5</th>\n",
              "      <td>Run!</td>\n",
              "      <td>Corram!</td>\n",
              "    </tr>\n",
              "    <tr>\n",
              "      <th>6</th>\n",
              "      <td>Run.</td>\n",
              "      <td>Corre!</td>\n",
              "    </tr>\n",
              "    <tr>\n",
              "      <th>7</th>\n",
              "      <td>Run.</td>\n",
              "      <td>Corra!</td>\n",
              "    </tr>\n",
              "    <tr>\n",
              "      <th>8</th>\n",
              "      <td>Run.</td>\n",
              "      <td>Corram!</td>\n",
              "    </tr>\n",
              "    <tr>\n",
              "      <th>9</th>\n",
              "      <td>Who?</td>\n",
              "      <td>Quem?</td>\n",
              "    </tr>\n",
              "  </tbody>\n",
              "</table>\n",
              "</div>"
            ],
            "text/plain": [
              "  Source   Target\n",
              "0    Go.     Vai.\n",
              "1    Go.      Vá.\n",
              "2    Hi.      Oi.\n",
              "3   Run!   Corre!\n",
              "4   Run!   Corra!\n",
              "5   Run!  Corram!\n",
              "6   Run.   Corre!\n",
              "7   Run.   Corra!\n",
              "8   Run.  Corram!\n",
              "9   Who?    Quem?"
            ]
          },
          "metadata": {
            "tags": []
          },
          "execution_count": 5
        }
      ]
    },
    {
      "cell_type": "markdown",
      "metadata": {
        "colab_type": "text",
        "id": "N1JBeAONma4h"
      },
      "source": [
        "La entrada del dataset corresponde a la frase o palabra escrita en ingles y el objetivo o salida corresponde a la traducción de lo anterior al idioma que se desea trabajar, en este caso portugues.\n",
        "\n",
        "Al inicio del dataset se pueden ver unicamente palabras junto con su traducción explicita, se puede notar ademas que existen palabras repetidas en ingles que se traducen de una manera distinta, esto se debe a que el ingles no posee una conjugación explicita en la palabra como es el caso del español o el portuges, sino que se le da un contexto con el resto de la oración. Se espera que la red tenga problemas al traducir frases con dichas palabras."
      ]
    },
    {
      "cell_type": "code",
      "metadata": {
        "colab_type": "code",
        "id": "62DwDH0MmX2K",
        "outputId": "37e3da19-0322-4827-80c3-1420f026c838",
        "colab": {
          "base_uri": "https://localhost:8080/",
          "height": 204
        }
      },
      "source": [
        "df.tail()"
      ],
      "execution_count": 0,
      "outputs": [
        {
          "output_type": "execute_result",
          "data": {
            "text/html": [
              "<div>\n",
              "<style scoped>\n",
              "    .dataframe tbody tr th:only-of-type {\n",
              "        vertical-align: middle;\n",
              "    }\n",
              "\n",
              "    .dataframe tbody tr th {\n",
              "        vertical-align: top;\n",
              "    }\n",
              "\n",
              "    .dataframe thead th {\n",
              "        text-align: right;\n",
              "    }\n",
              "</style>\n",
              "<table border=\"1\" class=\"dataframe\">\n",
              "  <thead>\n",
              "    <tr style=\"text-align: right;\">\n",
              "      <th></th>\n",
              "      <th>Source</th>\n",
              "      <th>Target</th>\n",
              "    </tr>\n",
              "  </thead>\n",
              "  <tbody>\n",
              "    <tr>\n",
              "      <th>135666</th>\n",
              "      <td>The Tatoeba Project, which can be found online...</td>\n",
              "      <td>O Projeto Tatoeba, que se pode encontrar on-li...</td>\n",
              "    </tr>\n",
              "    <tr>\n",
              "      <th>135667</th>\n",
              "      <td>No matter how much you try to convince people ...</td>\n",
              "      <td>Não importa o quanto você tenta convencer os o...</td>\n",
              "    </tr>\n",
              "    <tr>\n",
              "      <th>135668</th>\n",
              "      <td>Some movies make such an impact that one never...</td>\n",
              "      <td>Alguns filmes são tão marcantes que jamais nos...</td>\n",
              "    </tr>\n",
              "    <tr>\n",
              "      <th>135669</th>\n",
              "      <td>A child who is a native speaker usually knows ...</td>\n",
              "      <td>Uma criança que é falante nativa geralmente sa...</td>\n",
              "    </tr>\n",
              "    <tr>\n",
              "      <th>135670</th>\n",
              "      <td>We recommend adding sentences and translations...</td>\n",
              "      <td>Recomendamos acrescentar frases e traduções na...</td>\n",
              "    </tr>\n",
              "  </tbody>\n",
              "</table>\n",
              "</div>"
            ],
            "text/plain": [
              "                                                   Source                                             Target\n",
              "135666  The Tatoeba Project, which can be found online...  O Projeto Tatoeba, que se pode encontrar on-li...\n",
              "135667  No matter how much you try to convince people ...  Não importa o quanto você tenta convencer os o...\n",
              "135668  Some movies make such an impact that one never...  Alguns filmes são tão marcantes que jamais nos...\n",
              "135669  A child who is a native speaker usually knows ...  Uma criança que é falante nativa geralmente sa...\n",
              "135670  We recommend adding sentences and translations...  Recomendamos acrescentar frases e traduções na..."
            ]
          },
          "metadata": {
            "tags": []
          },
          "execution_count": 6
        }
      ]
    },
    {
      "cell_type": "markdown",
      "metadata": {
        "colab_type": "text",
        "id": "NTyPtK2wmMPc"
      },
      "source": [
        "Cuando se analizan los datos al final del conjunto se puede ver que ya se esta trabajando con oraciones y no unicamente con palabras simples, se espera que estos ejemplos permitan a la red neuronal aprender a reconocer un poco el contexto en el cual se esta utilizando la palabra."
      ]
    },
    {
      "cell_type": "markdown",
      "metadata": {
        "colab_type": "text",
        "id": "ZlJXIT1pnu4Q"
      },
      "source": [
        "> b) Realice un pre-procesamiento a los textos como se acostumbra para eliminar símbolos inecesarios u otras cosas que estime conveniente, comente sobre la importancia de éste paso. Además de ésto deberá agregar un símbolo al final de la sentencia *target* para indicar un \"alto\" cuando la red neuronal necesite aprender a generar una sentencia."
      ]
    },
    {
      "cell_type": "code",
      "metadata": {
        "colab_type": "code",
        "id": "XZqprTLpl3LV",
        "colab": {}
      },
      "source": [
        "table = str.maketrans('', '', string.punctuation)\n",
        "\n",
        "def clean_text(text, where=None):\n",
        "    \"\"\" OJO: Sin eliminar el significado de las palabras.\"\"\"\n",
        "    text = text.lower()\n",
        "    tokenize_text = text.split()\n",
        "    tokenize_text = [word.translate(table) for word in tokenize_text]#eliminar puntuacion\n",
        "    tokenize_text = [word for word in tokenize_text if word.isalpha()] #remove numbers\n",
        "    if where == 'target':\n",
        "        tokenize_text = tokenize_text + [\"<EOS>\"] \n",
        "    return tokenize_text\n",
        "\n",
        "  \n",
        "texts_input = list(df['Source'].apply(clean_text))\n",
        "texts_output = list(df['Target'].apply(clean_text, where='target'))"
      ],
      "execution_count": 0,
      "outputs": []
    },
    {
      "cell_type": "markdown",
      "metadata": {
        "colab_type": "text",
        "id": "4Uq4O2NcoR9U"
      },
      "source": [
        "> Cree un conjunto de validación y de pruebas fijos de $N_{exp} = 10000$ datos ¿Cuántos datos quedan para entrenar? "
      ]
    },
    {
      "cell_type": "code",
      "metadata": {
        "colab_type": "code",
        "id": "kFsSmWJ9ogst",
        "colab": {}
      },
      "source": [
        "N_exp = 10000"
      ],
      "execution_count": 0,
      "outputs": []
    },
    {
      "cell_type": "code",
      "metadata": {
        "colab_type": "code",
        "id": "TiYlkP23l3OW",
        "colab": {}
      },
      "source": [
        "X_train_l, X_test_l, Y_train_l, Y_test_l = train_test_split(texts_input, texts_output, test_size=N_exp, random_state=22)\n",
        "\n",
        "X_train_l, X_val_l, Y_train_l, Y_val_l = train_test_split(X_train_l, Y_train_l, test_size=N_exp, random_state=22)"
      ],
      "execution_count": 0,
      "outputs": []
    },
    {
      "cell_type": "code",
      "metadata": {
        "colab_type": "code",
        "id": "jWt6PF1El3Qs",
        "outputId": "2b45e2e5-2956-4db7-de48-fbc11d987e48",
        "colab": {
          "base_uri": "https://localhost:8080/",
          "height": 34
        }
      },
      "source": [
        "print(\"Ejemplos disponibles para entrenar:\",len(X_train_l))"
      ],
      "execution_count": 0,
      "outputs": [
        {
          "output_type": "stream",
          "text": [
            "Ejemplos disponibles para entrenar: 115671\n"
          ],
          "name": "stdout"
        }
      ]
    },
    {
      "cell_type": "markdown",
      "metadata": {
        "colab_type": "text",
        "id": "9Nj5BGP0otYS"
      },
      "source": [
        "Luego de haber generado el cconjunto de testing y validación aún quedan 115671 ejemplos para entrenar el modelo."
      ]
    },
    {
      "cell_type": "markdown",
      "metadata": {
        "colab_type": "text",
        "id": "jRwaQUY4o52h"
      },
      "source": [
        "> *Recuerde que si no puede procesar los datos de entrenamiento adecuadamente siempre puede muestrear en base a la capacidad de cómputo que posea*"
      ]
    },
    {
      "cell_type": "markdown",
      "metadata": {
        "colab_type": "text",
        "id": "yWv7nkZEo8vo"
      },
      "source": [
        "> c) Genere un vocabulario, **desde el conjunto de entrenamiento**, sobre las palabras a recibir y generar en la traducción, esto es codificarlas a un valor entero que servirá para que la red las vea en una representación útil a procesar, *comience desde el 1 debido a que el cero será utilizado más adelante*. Para reducir el vocabulario considere las palabras que aparecen un mínimo de *min_count* veces en todo los datos, se aconseja un valor de 3. Comente sobre la importancia de ésto al reducir el vocabulario ."
      ]
    },
    {
      "cell_type": "code",
      "metadata": {
        "colab_type": "code",
        "id": "hn54Zioel3Te",
        "colab": {}
      },
      "source": [
        "def create_vocab(texts, min_count=1):\n",
        "    count_vocab = {}\n",
        "    for sentence in texts:\n",
        "        for word in sentence:\n",
        "            if word not in count_vocab:\n",
        "                count_vocab[word] = 1\n",
        "            else:\n",
        "                count_vocab[word] += 1\n",
        "    return [word for word,count in count_vocab.items() if count >= min_count]\n",
        "  \n",
        "vocab_source = create_vocab(X_train_l, min_count=3)\n",
        "word2idx_s = {w: i+1 for i, w in enumerate(vocab_source)} #index (i+1) start from 1,2,3,...\n",
        "idx2word_s = {i+1: w for i, w in enumerate(vocab_source)}\n",
        "n_words_s = len(vocab_source)\n",
        "vocab_target = create_vocab(Y_train_l, min_count=3)\n",
        "word2idx_t = {w: i+1 for i, w in enumerate(vocab_target)}  #Converting text to numbers\n",
        "idx2word_t = {i+1: w for i, w in enumerate(vocab_target)}\n",
        "n_words_t = len(vocab_target)"
      ],
      "execution_count": 0,
      "outputs": []
    },
    {
      "cell_type": "markdown",
      "metadata": {
        "id": "dwOuM802XNPG",
        "colab_type": "text"
      },
      "source": [
        "> **¿De qué tamaño es el vocabulario de entrada y salida?**"
      ]
    },
    {
      "cell_type": "markdown",
      "metadata": {
        "colab_type": "text",
        "id": "cizs2bRqpyxK"
      },
      "source": [
        "Dado que existe una gran cantidad de palabras dentro del vocabulario y la memoria del sistema que se utilice no es ilimitada es necesario reducir el tamaño para poder trabajar con el dataset, ademas palabras que aparescan menos de una determinada cantidad de veces pueden considerarse como poco relevantes para la traducción del texto."
      ]
    },
    {
      "cell_type": "code",
      "metadata": {
        "colab_type": "code",
        "id": "47NOdPeWpt7d",
        "outputId": "9123a7d1-f8e5-40ab-c379-83a7c6a26a6c",
        "colab": {
          "base_uri": "https://localhost:8080/",
          "height": 68
        }
      },
      "source": [
        "print(\"Tamaño de palabras en origen:\",n_words_s)\n",
        "print(\"\\nTamaño de palabras en destino\",n_words_t)"
      ],
      "execution_count": 0,
      "outputs": [
        {
          "output_type": "stream",
          "text": [
            "Tamaño de palabras en origen: 5954\n",
            "\n",
            "Tamaño de palabras en destino 8760\n"
          ],
          "name": "stdout"
        }
      ]
    },
    {
      "cell_type": "markdown",
      "metadata": {
        "id": "SAHBQKt1XZ6M",
        "colab_type": "text"
      },
      "source": [
        "El tamaño del conjunto de palabras de origen es de 5954 palabras, mientras que el destino es de 8760, esto se debe a lo comentado anteriormente referenciando a que el ingles obtiene la conjugación de una palabra en base al contexto en el cual se esta hablando y no explicitamente en la forma en que se escribe."
      ]
    },
    {
      "cell_type": "markdown",
      "metadata": {
        "id": "tktTwP4xXVwI",
        "colab_type": "text"
      },
      "source": [
        "> **¿La diferencia de ésto podría ser un factor importante?**"
      ]
    },
    {
      "cell_type": "markdown",
      "metadata": {
        "colab_type": "text",
        "id": "qonri4Saprhl"
      },
      "source": [
        "Se tendería a pensar que si podría ser un factor decisivo en la calidad de un modelo, pero dado que un encoder se encarga de obtener un vector de contexto podría darse que se logra encontrar las asociaciones que tienen las palabras dependiendo de como se utilicen, probablemente no se alcance una calidad muy alta, pero por lo menos podría darse una aproximación de las traducciones."
      ]
    },
    {
      "cell_type": "markdown",
      "metadata": {
        "colab_type": "text",
        "id": "jJDsAJkArZMK"
      },
      "source": [
        "> Ahora codifique las palabras a los números indexados con el vocabulario. Recuerde que si una palabra en los otros conjuntos, o en el mismo de entrenamiento, no aparece en el vocabulario no se podrá generar una codificación, por lo que será **ignorada** ¿Cómo se podría evitar ésto?"
      ]
    },
    {
      "cell_type": "markdown",
      "metadata": {
        "id": "lCtmkQUSZNv1",
        "colab_type": "text"
      },
      "source": [
        "Se podría evitar disminuyendo la cantidad de palabras necesarias para pertenecer al vocabulario, otra forma podria ser evitar las frases que utilicen palabras que no pertenecen al vocabulario."
      ]
    },
    {
      "cell_type": "code",
      "metadata": {
        "colab_type": "code",
        "id": "U6nzVB-Ol3WJ",
        "colab": {}
      },
      "source": [
        "\"\"\" Source/input data \"\"\"\n",
        "dataX_train = [[word2idx_s[word] for word in sent if word in word2idx_s] for sent in X_train_l]\n",
        "dataX_val = [[word2idx_s[word] for word in sent if word in word2idx_s] for sent in X_val_l]\n",
        "dataX_test = [[word2idx_s[word] for word in sent if word in word2idx_s] for sent in X_test_l]\n",
        "\n",
        "\"\"\" Target/output data \"\"\"\n",
        "dataY_train = [[word2idx_t[word] for word in sent if word in word2idx_t] for sent in Y_train_l]\n",
        "dataY_val = [[word2idx_t[word] for word in sent if word in word2idx_t] for sent in Y_val_l] \n",
        "dataY_test = [[word2idx_t[word] for word in sent if word in word2idx_t] for sent in Y_test_l] "
      ],
      "execution_count": 0,
      "outputs": []
    },
    {
      "cell_type": "markdown",
      "metadata": {
        "colab_type": "text",
        "id": "3XRY-QiBsSXA"
      },
      "source": [
        "> d) Debido al largo variable de los textos de entrada y salida será necesario estandarizar ésto para poder trabajar de manera más cómoda en Keras, *cada texto (entrada y salida) pueden tener distinto largo máximo*. Comente sobre la decisión del tipo de *padding*, *pre o post* ¿Qué sucede al variar el largo máximo de instantes de tiempo para procesar en cada parte del modelo (entrada y salida)?"
      ]
    },
    {
      "cell_type": "code",
      "metadata": {
        "colab_type": "code",
        "id": "F5BdzJFml3Ys",
        "outputId": "758570d2-c31c-4cea-d152-c923d54ff9aa",
        "colab": {
          "base_uri": "https://localhost:8080/",
          "height": 51
        }
      },
      "source": [
        "\"\"\" INPUT DATA (Origin language) \"\"\"\n",
        "max_inp_length = max([max(map(len,dataX_train)), max(map(len,dataX_val)), max(map(len,dataX_test))])\n",
        "print(\"Largo max inp: \",max_inp_length)\n",
        "word2idx_s[\"*\"] = 0 #padding symbol\n",
        "idx2word_s[0] = \"*\"\n",
        "n_words_s += 1  \n",
        "X_train = sequence.pad_sequences(dataX_train, maxlen=max_inp_length, padding='post', value=word2idx_s[\"*\"])\n",
        "X_val = sequence.pad_sequences(dataX_val, maxlen=max_inp_length, padding='post', value=word2idx_s[\"*\"])\n",
        "X_test = sequence.pad_sequences(dataX_test, maxlen=max_inp_length, padding='post', value=word2idx_s[\"*\"])\n",
        "\n",
        "\"\"\" OUTPUT DATA (Destination language) \"\"\"\n",
        "max_out_length = max([max(map(len,dataY_train)), max(map(len,dataY_val)), max(map(len,dataY_test))])\n",
        "print(\"Largo max out: \",max_out_length)\n",
        "word2idx_t[\"*\"] = 0 #padding symbol\n",
        "idx2word_t[0] = \"*\"\n",
        "n_words_t += 1  \n",
        "Y_train = sequence.pad_sequences(dataY_train, maxlen=max_out_length, padding='post', value=word2idx_t[\"*\"])\n",
        "Y_val = sequence.pad_sequences(dataY_val, maxlen=max_out_length, padding='post', value=word2idx_t[\"*\"])\n",
        "Y_test = sequence.pad_sequences(dataY_test, maxlen=max_out_length, padding='post', value=word2idx_t[\"*\"])\n"
      ],
      "execution_count": 0,
      "outputs": [
        {
          "output_type": "stream",
          "text": [
            "Largo max inp:  35\n",
            "Largo max out:  34\n"
          ],
          "name": "stdout"
        }
      ]
    },
    {
      "cell_type": "code",
      "metadata": {
        "id": "9vqheq14qeSJ",
        "colab_type": "code",
        "colab": {}
      },
      "source": [
        "#import operator\n",
        "\n",
        "#max(.iteritems(), key=operator.itemgetter(1))[0]"
      ],
      "execution_count": 0,
      "outputs": []
    },
    {
      "cell_type": "markdown",
      "metadata": {
        "colab_type": "text",
        "id": "ZFSKSmxStx06"
      },
      "source": [
        "> e) Para evitar que la red obtenga una ganancia por imitar/predecir el símbolo de *padding* que está bastante presente en los datos coloque un peso sobre éste clase, con valor 0, así se evita que tenga impacto en la función objetivo. Ya que *keras* no soporta directamente ésto en series de tiempo coloque el peso a cada instante de tiempo de cada dato de entrenamiento dependiendo de su clase. Comente sobre alguna otra forma en que se podría manejar el evitar que la red prediga en mayoría el símbolo de *padding*."
      ]
    },
    {
      "cell_type": "code",
      "metadata": {
        "colab_type": "code",
        "id": "vB0zWIozl3bi",
        "colab": {}
      },
      "source": [
        "c_weights = np.ones(n_words_t)\n",
        "c_weights[0] = 0 #padding class masked\n",
        "sample_weight = np.zeros(Y_train.shape)\n",
        "for i in range(sample_weight.shape[0]):\n",
        "    sample_weight[i] = c_weights[Y_train[i,:]]"
      ],
      "execution_count": 0,
      "outputs": []
    },
    {
      "cell_type": "markdown",
      "metadata": {
        "id": "JWxwi7tZg19g",
        "colab_type": "text"
      },
      "source": [
        "Otra para evitar que la red tenga un score alto debido a la predicción del padding corresponde a generar una mascara para evitar considerar valores que sean iguales a los determinados en la condición de la mascara."
      ]
    },
    {
      "cell_type": "markdown",
      "metadata": {
        "id": "0pjCQm57-8uW",
        "colab_type": "text"
      },
      "source": [
        "> f) Para lograr la tarea defina una red recurrente del tipo *encoder*-*decoder* como la que se presenta en la siguiente imágen. En primer lugar defina el *Encoder* que procesara el texto de entrada y retornará un solo vector final, haciendo uso de las capas ya conocidas de *Embedding* para generar un vector denso de palabra y *GRU*, pero en su versión acelerada para GPU.\n",
        "\n",
        "<img src=\"https://chunml.github.io/ChunML.github.io/images/projects/sequence-to-sequence/repeated_vector.png\" width=\"60%\" />"
      ]
    },
    {
      "cell_type": "code",
      "metadata": {
        "id": "rOIvPz3yyN1j",
        "colab_type": "code",
        "colab": {}
      },
      "source": [
        "def plot_losses(hist): \n",
        "  plt.figure(figsize=(15, 7))\n",
        "  \n",
        "  plt.plot(hist.history['loss'])\n",
        "  plt.plot(hist.history['val_loss'])\n",
        "\n",
        "  plt.xlabel(\"Epoch\")\n",
        "  plt.ylabel(\"Loss\")\n",
        "  \n",
        "  plt.legend([\"Train Loss\", \"Val Loss\"], loc=\"upper right\")\n",
        "  \n",
        "  plt.title(\"Traning & Test Losses\")\n",
        "  \n",
        "  plt.show()\n",
        "  \n",
        "  print(\"Final Train Loss:\",hist.history['loss'][-1])\n",
        "  print(\"Min val_loss:\",min(hist.history['val_loss']))"
      ],
      "execution_count": 0,
      "outputs": []
    },
    {
      "cell_type": "code",
      "metadata": {
        "id": "rU3HcYfF-8uX",
        "colab_type": "code",
        "outputId": "c53e9e1a-b735-4cd7-cd2f-e386e4890964",
        "colab": {
          "base_uri": "https://localhost:8080/",
          "height": 156
        }
      },
      "source": [
        "EMBEDDING_DIM = 100\n",
        "model = Sequential()\n",
        "model.add(Embedding(input_dim=n_words_s, output_dim=EMBEDDING_DIM, input_length=max_inp_length))\n",
        "model.add(CuDNNGRU(64, return_sequences=True))\n",
        "model.add(CuDNNGRU(128, return_sequences=False))"
      ],
      "execution_count": 0,
      "outputs": [
        {
          "output_type": "stream",
          "text": [
            "WARNING: Logging before flag parsing goes to stderr.\n",
            "W0801 20:35:57.161721 140201266190208 deprecation_wrapper.py:119] From /usr/local/lib/python3.6/dist-packages/keras/backend/tensorflow_backend.py:74: The name tf.get_default_graph is deprecated. Please use tf.compat.v1.get_default_graph instead.\n",
            "\n",
            "W0801 20:35:57.179274 140201266190208 deprecation_wrapper.py:119] From /usr/local/lib/python3.6/dist-packages/keras/backend/tensorflow_backend.py:517: The name tf.placeholder is deprecated. Please use tf.compat.v1.placeholder instead.\n",
            "\n",
            "W0801 20:35:57.181794 140201266190208 deprecation_wrapper.py:119] From /usr/local/lib/python3.6/dist-packages/keras/backend/tensorflow_backend.py:4138: The name tf.random_uniform is deprecated. Please use tf.random.uniform instead.\n",
            "\n"
          ],
          "name": "stderr"
        }
      ]
    },
    {
      "cell_type": "markdown",
      "metadata": {
        "id": "XvtDnKXf-8ua",
        "colab_type": "text"
      },
      "source": [
        "> Luego defina la sección que conecta el largo (*timesteps*) de entrada *vs* el de salida."
      ]
    },
    {
      "cell_type": "code",
      "metadata": {
        "id": "7QSp4a8Z-8ua",
        "colab_type": "code",
        "colab": {}
      },
      "source": [
        "model.add(RepeatVector(max_out_length)) #conection"
      ],
      "execution_count": 0,
      "outputs": []
    },
    {
      "cell_type": "markdown",
      "metadata": {
        "id": "1PPTOlFS-8uc",
        "colab_type": "text"
      },
      "source": [
        "> Finalmente defina el *Decoder* para generar la secuencia de salida en texto de palabras en otro idioma, a través de la función *softmax* sobre cada instante de tiempo (*timestep*). "
      ]
    },
    {
      "cell_type": "code",
      "metadata": {
        "id": "7L7J-2hR-8ud",
        "colab_type": "code",
        "outputId": "3ff92998-b6f5-429f-d7e0-437111d18703",
        "colab": {
          "base_uri": "https://localhost:8080/",
          "height": 374
        }
      },
      "source": [
        "model.add(CuDNNGRU(128, return_sequences=True))\n",
        "model.add(CuDNNGRU(64, return_sequences=True))\n",
        "model.add(TimeDistributed(Dense(n_words_t, activation='softmax')))\n",
        "model.summary()"
      ],
      "execution_count": 0,
      "outputs": [
        {
          "output_type": "stream",
          "text": [
            "_________________________________________________________________\n",
            "Layer (type)                 Output Shape              Param #   \n",
            "=================================================================\n",
            "embedding_1 (Embedding)      (None, 35, 100)           595500    \n",
            "_________________________________________________________________\n",
            "cu_dnngru_1 (CuDNNGRU)       (None, 35, 64)            31872     \n",
            "_________________________________________________________________\n",
            "cu_dnngru_2 (CuDNNGRU)       (None, 128)               74496     \n",
            "_________________________________________________________________\n",
            "repeat_vector_1 (RepeatVecto (None, 34, 128)           0         \n",
            "_________________________________________________________________\n",
            "cu_dnngru_3 (CuDNNGRU)       (None, 34, 128)           99072     \n",
            "_________________________________________________________________\n",
            "cu_dnngru_4 (CuDNNGRU)       (None, 34, 64)            37248     \n",
            "_________________________________________________________________\n",
            "time_distributed_1 (TimeDist (None, 34, 8761)          569465    \n",
            "=================================================================\n",
            "Total params: 1,407,653\n",
            "Trainable params: 1,407,653\n",
            "Non-trainable params: 0\n",
            "_________________________________________________________________\n"
          ],
          "name": "stdout"
        }
      ]
    },
    {
      "cell_type": "markdown",
      "metadata": {
        "id": "XvkqB3xr-8uf",
        "colab_type": "text"
      },
      "source": [
        "> Entrene la red entre 1 a 5 *epochs*, agregando los pesos definidos sobre cada ejemplo de entrenamiento. Además de utilizar una función de pérdida que evita generar explícitamente los *one hot vector*\n"
      ]
    },
    {
      "cell_type": "markdown",
      "metadata": {
        "id": "I8DggQpE-8ug",
        "colab_type": "text"
      },
      "source": [
        "Antes de entrenar es necesario cambiar la forma del output a 3 dimensiones de modo que se pueda establecer (Cantidad de ejemplos, Timestamps y la clase)"
      ]
    },
    {
      "cell_type": "code",
      "metadata": {
        "id": "rs8bNE0B-8uh",
        "colab_type": "code",
        "colab": {}
      },
      "source": [
        "Y_train = np.reshape(Y_train, (Y_train.shape[0], max_out_length, 1)) #Examples, Timestamps, Class\n",
        "Y_val = np.reshape(Y_val, (Y_val.shape[0], max_out_length, 1))\n",
        "Y_test = np.reshape(Y_test, (Y_test.shape[0], max_out_length, 1))"
      ],
      "execution_count": 0,
      "outputs": []
    },
    {
      "cell_type": "code",
      "metadata": {
        "id": "T2lASZBg-8uj",
        "colab_type": "code",
        "outputId": "442318c5-3909-4e12-9fbd-1733e90b43e1",
        "colab": {
          "base_uri": "https://localhost:8080/",
          "height": 190
        }
      },
      "source": [
        "model.compile(optimizer='adam', loss='sparse_categorical_crossentropy', sample_weight_mode='temporal')\n",
        "history = model.fit(X_train, Y_train, epochs=3, batch_size=256,validation_data=(X_val, Y_val), sample_weight = sample_weight, verbose=0)"
      ],
      "execution_count": 0,
      "outputs": [
        {
          "output_type": "stream",
          "text": [
            "W0801 20:35:58.264205 140201266190208 deprecation_wrapper.py:119] From /usr/local/lib/python3.6/dist-packages/keras/optimizers.py:790: The name tf.train.Optimizer is deprecated. Please use tf.compat.v1.train.Optimizer instead.\n",
            "\n",
            "W0801 20:35:58.287893 140201266190208 deprecation_wrapper.py:119] From /usr/local/lib/python3.6/dist-packages/keras/backend/tensorflow_backend.py:3341: The name tf.log is deprecated. Please use tf.math.log instead.\n",
            "\n",
            "W0801 20:35:58.366923 140201266190208 deprecation.py:323] From /usr/local/lib/python3.6/dist-packages/tensorflow/python/ops/math_grad.py:1250: add_dispatch_support.<locals>.wrapper (from tensorflow.python.ops.array_ops) is deprecated and will be removed in a future version.\n",
            "Instructions for updating:\n",
            "Use tf.where in 2.0, which has the same broadcast rule as np.where\n",
            "W0801 20:35:58.791640 140201266190208 deprecation_wrapper.py:119] From /usr/local/lib/python3.6/dist-packages/keras/backend/tensorflow_backend.py:986: The name tf.assign_add is deprecated. Please use tf.compat.v1.assign_add instead.\n",
            "\n"
          ],
          "name": "stderr"
        }
      ]
    },
    {
      "cell_type": "code",
      "metadata": {
        "id": "3ugYOeYXycCr",
        "colab_type": "code",
        "outputId": "ac286c93-ff66-4b56-9d38-d3bfcbc36325",
        "colab": {
          "base_uri": "https://localhost:8080/",
          "height": 492
        }
      },
      "source": [
        "plot_losses(history)"
      ],
      "execution_count": 0,
      "outputs": [
        {
          "output_type": "display_data",
          "data": {
            "image/png": "[encoded data removed]",
            "text/plain": [
              "<Figure size 1080x504 with 1 Axes>"
            ]
          },
          "metadata": {
            "tags": []
          }
        },
        {
          "output_type": "stream",
          "text": [
            "Final Train Loss: 5.758747957356929\n",
            "Min val_loss: 12.496376498413087\n"
          ],
          "name": "stdout"
        }
      ]
    },
    {
      "cell_type": "markdown",
      "metadata": {
        "id": "_FOLrRe2iH9o",
        "colab_type": "text"
      },
      "source": [
        "Se puede notar un overfitting al observar la diferencia entre loss del conjunto de entrenamiento y de validación, esto puede deberse a la forma en que se determina si una frase fue traducida correctamente, al ser un etiquetado de multiples clases por frase probablemente el learner determina que al tener una sola palabra mal catalogada la frase en general esta incorrecta."
      ]
    },
    {
      "cell_type": "markdown",
      "metadata": {
        "id": "hK2AhrXMAipW",
        "colab_type": "text"
      },
      "source": [
        "> g) Debido a lo costoso de tener una red completamente recurrente para entrenar y poder experimentar, cambie el modelo que procesa el *Encoder* por una red convolucional, reduciendo el número de capas pero aumentando las neuronas. Utilice tamaños de *kernel*  igual a 5 y funciones de activaciones relu. Se agregan capas de *BatchNormalization* debido a que en el *Decoder* contamos con redes recurrentes que tienen capa activación distinta a la usada por las convoluciones. La capa de *GlobalMaxPooling1d* es lo que permite reducir toda la información extraída a un único vector, como se realizó anteriormente con *return_sequences=False*, comente sobre la ganancia o desventaja de ésto *vs* la red neuronal."
      ]
    },
    {
      "cell_type": "code",
      "metadata": {
        "id": "WNqCt5TK-8un",
        "colab_type": "code",
        "outputId": "4ed49ccc-7dde-402b-8b4a-b008956e8e68",
        "colab": {
          "base_uri": "https://localhost:8080/",
          "height": 442
        }
      },
      "source": [
        "modelc = Sequential()\n",
        "modelc.add(Embedding(input_dim=n_words_s, output_dim=EMBEDDING_DIM, input_length=max_inp_length))\n",
        "modelc.add(Conv1D(256, 5, padding='same', activation='relu', strides=1))\n",
        "modelc.add(BatchNormalization()) #for stability\n",
        "modelc.add(Conv1D(256, 5, padding='same', activation='relu', strides=1))\n",
        "modelc.add(BatchNormalization())\n",
        "modelc.add(GlobalMaxPooling1D()) #aka to return_sequences=False\n",
        "modelc.add(RepeatVector(max_out_length)) #conection\n",
        "modelc.add(CuDNNGRU(256, return_sequences=True))\n",
        "modelc.add(TimeDistributed(Dense(n_words_t, activation='softmax')))\n",
        "modelc.compile(optimizer='adam', loss='sparse_categorical_crossentropy', sample_weight_mode='temporal')\n",
        "modelc.summary() "
      ],
      "execution_count": 0,
      "outputs": [
        {
          "output_type": "stream",
          "text": [
            "_________________________________________________________________\n",
            "Layer (type)                 Output Shape              Param #   \n",
            "=================================================================\n",
            "embedding_2 (Embedding)      (None, 35, 100)           595500    \n",
            "_________________________________________________________________\n",
            "conv1d_1 (Conv1D)            (None, 35, 256)           128256    \n",
            "_________________________________________________________________\n",
            "batch_normalization_1 (Batch (None, 35, 256)           1024      \n",
            "_________________________________________________________________\n",
            "conv1d_2 (Conv1D)            (None, 35, 256)           327936    \n",
            "_________________________________________________________________\n",
            "batch_normalization_2 (Batch (None, 35, 256)           1024      \n",
            "_________________________________________________________________\n",
            "global_max_pooling1d_1 (Glob (None, 256)               0         \n",
            "_________________________________________________________________\n",
            "repeat_vector_2 (RepeatVecto (None, 34, 256)           0         \n",
            "_________________________________________________________________\n",
            "cu_dnngru_5 (CuDNNGRU)       (None, 34, 256)           394752    \n",
            "_________________________________________________________________\n",
            "time_distributed_2 (TimeDist (None, 34, 8761)          2251577   \n",
            "=================================================================\n",
            "Total params: 3,700,069\n",
            "Trainable params: 3,699,045\n",
            "Non-trainable params: 1,024\n",
            "_________________________________________________________________\n"
          ],
          "name": "stdout"
        }
      ]
    },
    {
      "cell_type": "markdown",
      "metadata": {
        "id": "h9vyqqzqlMQP",
        "colab_type": "text"
      },
      "source": [
        "Una red convolucional se caracteriza por extraer caracteristicas importantes utilizando una menor cantidad de parámetros entrenables, esto es lo que nos permite aumentar la cantidad de neuronas ha utilizar sin perjudicar en gran medida el tiempo de entrenamiento."
      ]
    },
    {
      "cell_type": "markdown",
      "metadata": {
        "id": "AyRK2UeBBHGc",
        "colab_type": "text"
      },
      "source": [
        "> Entrene el modelo igual a lo presentado anteriormente pero ahora por 20 *epochs* ¿Cambian los tiempos de procesamiento y la cantidad de parámetros?"
      ]
    },
    {
      "cell_type": "code",
      "metadata": {
        "id": "qunj7jkY-8uo",
        "colab_type": "code",
        "colab": {}
      },
      "source": [
        "historyc = modelc.fit(X_train, Y_train, epochs=20, batch_size=256,validation_data=(X_val, Y_val), sample_weight = sample_weight, verbose=0)"
      ],
      "execution_count": 0,
      "outputs": []
    },
    {
      "cell_type": "markdown",
      "metadata": {
        "id": "OQJ_r2oYoiAQ",
        "colab_type": "text"
      },
      "source": [
        "El tiempo de procesamiento se mantiene casi a la par con el encoder recurrente a pesar de tener una mayor cantidad de neuronas y parámetros entrenables."
      ]
    },
    {
      "cell_type": "code",
      "metadata": {
        "id": "V7zpY-Gnygop",
        "colab_type": "code",
        "outputId": "2875d530-35f4-46a2-b436-7d5aa8378397",
        "colab": {
          "base_uri": "https://localhost:8080/",
          "height": 492
        }
      },
      "source": [
        "plot_losses(historyc)"
      ],
      "execution_count": 0,
      "outputs": [
        {
          "output_type": "display_data",
          "data": {
            "image/png": "[encoded data removed]",
            "text/plain": [
              "<Figure size 1080x504 with 1 Axes>"
            ]
          },
          "metadata": {
            "tags": []
          }
        },
        {
          "output_type": "stream",
          "text": [
            "Final Train Loss: 1.344768019416162\n",
            "Min val_loss: 13.400520515441894\n"
          ],
          "name": "stdout"
        }
      ]
    },
    {
      "cell_type": "markdown",
      "metadata": {
        "id": "dm5yhXp-o5O_",
        "colab_type": "text"
      },
      "source": [
        "Al igual que el caso anterior, el error de validación tiene el mismo comportamiento, pero se puede ver un mayor ajuste con el conjunto de entrenamiento, ademas de un convergencia mas temprana."
      ]
    },
    {
      "cell_type": "markdown",
      "metadata": {
        "id": "y9lac8KvBjoE",
        "colab_type": "text"
      },
      "source": [
        "> h) Visualice lo aprendido por el modelo sobre algunos datos del conjunto de entrenamiento y validación, comente lo observado."
      ]
    },
    {
      "cell_type": "code",
      "metadata": {
        "id": "asg7sSwd-8uq",
        "colab_type": "code",
        "colab": {}
      },
      "source": [
        "def predict_words(y_indexs, data=\"target\"):\n",
        "    \"\"\" Predict until '-#anvorgesa-' is seen \"\"\"\n",
        "    return_val = []\n",
        "    for indx_word in y_indexs:\n",
        "        if indx_word != 0: #start to predict\n",
        "            return_val.append(np.squeeze(indx_word))\n",
        "            if data == \"target\": #if target is predicting\n",
        "                if indx_word == word2idx_t[\"<EOS>\"]:\n",
        "                    return return_val                \n",
        "    return return_val\n",
        "  \n",
        "n_s = 5\n",
        "idx = np.random.choice(np.arange(Y_test.shape[0]), size=n_s, replace=False)"
      ],
      "execution_count": 0,
      "outputs": []
    },
    {
      "cell_type": "code",
      "metadata": {
        "id": "okD-UpdX-8ur",
        "colab_type": "code",
        "outputId": "155619e3-3b5c-4744-a923-273404963ad2",
        "colab": {
          "base_uri": "https://localhost:8080/",
          "height": 374
        }
      },
      "source": [
        "print(\"For the first model:\")\n",
        "Y_test_pred = model.predict_classes(X_test[idx])\n",
        "for i, n_sampled in enumerate(idx):\n",
        "    text_input = [idx2word_s[p] for p in predict_words(X_test[n_sampled], data=\"source\")]\n",
        "    print(\"\\nText source: \", ' '.join(text_input))\n",
        "    text_real = [idx2word_t[p] for p in predict_words(Y_test[n_sampled,:,0], data=\"target\")]\n",
        "    print(\"Text target true: \", ' '.join( text_real))\n",
        "    text_sampled = [idx2word_t[p] for p in predict_words(Y_test_pred[i], data=\"target\")]\n",
        "    print(\"Text target predicted: \", ' '.join(text_sampled))"
      ],
      "execution_count": 0,
      "outputs": [
        {
          "output_type": "stream",
          "text": [
            "For the first model:\n",
            "\n",
            "Text source:  ive tried doing it that way already\n",
            "Text target true:  eu já tentei fazêlo dessa maneira <EOS>\n",
            "Text target predicted:  <EOS>\n",
            "\n",
            "Text source:  thats how we dealt with it\n",
            "Text target true:  foi assim que com isso <EOS>\n",
            "Text target predicted:  <EOS>\n",
            "\n",
            "Text source:  we have to change our plan\n",
            "Text target true:  temos de mudar nosso plano <EOS>\n",
            "Text target predicted:  <EOS>\n",
            "\n",
            "Text source:  the students were told to learn the poem by heart\n",
            "Text target true:  disseram aos estudantes que o poema de cor <EOS>\n",
            "Text target predicted:  <EOS>\n",
            "\n",
            "Text source:  the robber the bag from his hand\n",
            "Text target true:  o ladrão pegou a bolsa da sua mão <EOS>\n",
            "Text target predicted:  <EOS>\n"
          ],
          "name": "stdout"
        }
      ]
    },
    {
      "cell_type": "markdown",
      "metadata": {
        "id": "BucXZMWXpKV4",
        "colab_type": "text"
      },
      "source": [
        "En el caso del encoder con una red recurrente se obtiene un mal desempeño en el cual independiente de la frase que se quiera predecir devuelve \"tom que\" o \"eu tom\" dependiendo de la ejecución que se realice, observando algunas de las frases del conjunto de pruebas se ve que existe una gran cantidad de oraciones donde se utiliza la palabra \"tom\" por lo que podría generalizar de manera que muestre la mayor cantidad de veces dicha palabra."
      ]
    },
    {
      "cell_type": "code",
      "metadata": {
        "id": "Yy8sDYbH-8ut",
        "colab_type": "code",
        "outputId": "6bb9ce0a-6b31-43f3-a860-ab986606da61",
        "colab": {
          "base_uri": "https://localhost:8080/",
          "height": 374
        }
      },
      "source": [
        "print(\"For the convolutional model:\")\n",
        "Y_test_pred = modelc.predict_classes(X_test[idx] )\n",
        "for i, n_sampled in enumerate(idx):\n",
        "    text_input = [idx2word_s[p] for p in predict_words(X_test[n_sampled], data=\"source\")]\n",
        "    print(\"\\nText source: \", ' '.join(text_input))\n",
        "    text_real = [idx2word_t[p] for p in predict_words(Y_test[n_sampled,:,0], data=\"target\")]\n",
        "    print(\"Text target true: \", ' '.join( text_real))\n",
        "    text_sampled = [idx2word_t[p] for p in predict_words(Y_test_pred[i], data=\"target\")]\n",
        "    print(\"Text target predicted: \", ' '.join(text_sampled))"
      ],
      "execution_count": 0,
      "outputs": [
        {
          "output_type": "stream",
          "text": [
            "For the convolutional model:\n",
            "\n",
            "Text source:  ive tried doing it that way already\n",
            "Text target true:  eu já tentei fazêlo dessa maneira <EOS>\n",
            "Text target predicted:  tentei tentei fazêlo dessa maneira <EOS>\n",
            "\n",
            "Text source:  thats how we dealt with it\n",
            "Text target true:  foi assim que com isso <EOS>\n",
            "Text target predicted:  é improvável que nós isso <EOS>\n",
            "\n",
            "Text source:  we have to change our plan\n",
            "Text target true:  temos de mudar nosso plano <EOS>\n",
            "Text target predicted:  temos de mudar nosso plano <EOS>\n",
            "\n",
            "Text source:  the students were told to learn the poem by heart\n",
            "Text target true:  disseram aos estudantes que o poema de cor <EOS>\n",
            "Text target predicted:  os alunos alunos ao para que se se de <EOS>\n",
            "\n",
            "Text source:  the robber the bag from his hand\n",
            "Text target true:  o ladrão pegou a bolsa da sua mão <EOS>\n",
            "Text target predicted:  o o a sua mão mão mão <EOS>\n"
          ],
          "name": "stdout"
        }
      ]
    },
    {
      "cell_type": "markdown",
      "metadata": {
        "id": "w9ahDMw-rXX5",
        "colab_type": "text"
      },
      "source": [
        "Para el caso del encoder que utiliza una red convolucional se puede ver una clara mejora en la forma en que la red traduce las palabras, en donde para los ejemplos observados se ve que devuelve las palabra necesarias para traducir, pero tiende a repetir en algunos casos mas de una vez una palabra. Para este caso una red convolucional logra generar un mejor vector de contexto para el decoder, la red recurrente utilizada podría ser mejorada por medio de modificaciones a su arquitectura a cambio de un mayor tiempo de ejecución (por ejemplo aplicar bidireccionalidad)"
      ]
    },
    {
      "cell_type": "markdown",
      "metadata": {
        "id": "PYXgtU4S5bYy",
        "colab_type": "text"
      },
      "source": [
        "> i) Realice algún cambio esperando que mejore el modelo entrenado, luego vuelva a visualizar lo predicho por la red *vs* lo real. *Debido a lo costoso en entrenar puede optar por realizar solo un cambio pero que sea significativo*.  Se comentan algunas opciones para utilizar y combinar:\n",
        "* Cambiar  el *embedding* por alguno pre-entrenado\n",
        "* Agregar regularizadores\n",
        "* Asignar peso a las clases/palabras de salida\n",
        "* Cambiar *Global max pooling* por *Average max pooling*\n",
        "* Aumentar o reducir capas\n",
        "* Aumentar o reducir neuronas/unidades  "
      ]
    },
    {
      "cell_type": "markdown",
      "metadata": {
        "id": "zOA9cAWGsUFe",
        "colab_type": "text"
      },
      "source": [
        "Se pre entrena un embedding con los textos pertenecientes a glove con 200 dimensiones."
      ]
    },
    {
      "cell_type": "code",
      "metadata": {
        "id": "G9MMaiQL5Ccx",
        "colab_type": "code",
        "colab": {}
      },
      "source": [
        "embeddings_index2 = dict()\n",
        "EMBEDDING_DIM2 = 200\n",
        "\n",
        "f = open('drive/My Drive/glove.6B.'+str(EMBEDDING_DIM2)+'d.txt')\n",
        "for line in f:\n",
        "    values = line.split()\n",
        "    word = values[0]\n",
        "    coefs = np.asarray(values[1:], dtype='float32')\n",
        "    embeddings_index2[word] = coefs\n",
        "f.close()"
      ],
      "execution_count": 0,
      "outputs": []
    },
    {
      "cell_type": "code",
      "metadata": {
        "id": "CNCPOQtg5T6j",
        "colab_type": "code",
        "colab": {}
      },
      "source": [
        "embedding_matrix2 = np.zeros((n_words_s, EMBEDDING_DIM2))\n",
        "for word, i in word2idx_s.items():\n",
        "    embedding_vector = embeddings_index2.get(word)\n",
        "    if embedding_vector is not None: #if word does not has embedding\n",
        "        embedding_matrix2[i] = embedding_vector"
      ],
      "execution_count": 0,
      "outputs": []
    },
    {
      "cell_type": "markdown",
      "metadata": {
        "id": "-hKDll_ZsqdO",
        "colab_type": "text"
      },
      "source": [
        "Ademas, se permite al Embedding el reajuste de pesos de acuerdo al conjunto de entrenamiento por el desempeño encontrado en actividades anteriores. Para el decoder se permite la bidireccionalidad de las secuencias con un merge mode en concatenación para no perder información importante."
      ]
    },
    {
      "cell_type": "code",
      "metadata": {
        "id": "YB_lrWUd5v55",
        "colab_type": "code",
        "outputId": "01de8d1e-42c7-4d30-b1f5-5778292b9059",
        "colab": {
          "base_uri": "https://localhost:8080/",
          "height": 510
        }
      },
      "source": [
        "modeli = Sequential()\n",
        "modeli.add(Embedding(input_dim=n_words_s, output_dim=EMBEDDING_DIM2, input_length=max_inp_length, trainable=True, weights = [embedding_matrix2]))\n",
        "modeli.add(Conv1D(256, 5, padding='same', activation='relu', strides=1))\n",
        "modeli.add(BatchNormalization()) #for stability\n",
        "modeli.add(Conv1D(256, 5, padding='same', activation='relu', strides=1))\n",
        "modeli.add(BatchNormalization())\n",
        "modeli.add(Conv1D(256, 5, padding='same', activation='relu', strides=1))\n",
        "modeli.add(BatchNormalization())\n",
        "modeli.add(GlobalMaxPooling1D()) #aka to return_sequences=False\n",
        "modeli.add(RepeatVector(max_out_length)) #conection\n",
        "gate_layer = CuDNNGRU(256, return_sequences=True)\n",
        "modeli.add(Bidirectional(gate_layer, merge_mode='concat'))\n",
        "modeli.add(TimeDistributed(Dense(n_words_t, activation='softmax')))\n",
        "modeli.compile(optimizer='adam', loss='sparse_categorical_crossentropy', sample_weight_mode='temporal')\n",
        "modeli.summary() "
      ],
      "execution_count": 0,
      "outputs": [
        {
          "output_type": "stream",
          "text": [
            "_________________________________________________________________\n",
            "Layer (type)                 Output Shape              Param #   \n",
            "=================================================================\n",
            "embedding_3 (Embedding)      (None, 35, 200)           1191000   \n",
            "_________________________________________________________________\n",
            "conv1d_3 (Conv1D)            (None, 35, 256)           256256    \n",
            "_________________________________________________________________\n",
            "batch_normalization_3 (Batch (None, 35, 256)           1024      \n",
            "_________________________________________________________________\n",
            "conv1d_4 (Conv1D)            (None, 35, 256)           327936    \n",
            "_________________________________________________________________\n",
            "batch_normalization_4 (Batch (None, 35, 256)           1024      \n",
            "_________________________________________________________________\n",
            "conv1d_5 (Conv1D)            (None, 35, 256)           327936    \n",
            "_________________________________________________________________\n",
            "batch_normalization_5 (Batch (None, 35, 256)           1024      \n",
            "_________________________________________________________________\n",
            "global_max_pooling1d_2 (Glob (None, 256)               0         \n",
            "_________________________________________________________________\n",
            "repeat_vector_3 (RepeatVecto (None, 34, 256)           0         \n",
            "_________________________________________________________________\n",
            "bidirectional_1 (Bidirection (None, 34, 512)           789504    \n",
            "_________________________________________________________________\n",
            "time_distributed_3 (TimeDist (None, 34, 8761)          4494393   \n",
            "=================================================================\n",
            "Total params: 7,390,097\n",
            "Trainable params: 7,388,561\n",
            "Non-trainable params: 1,536\n",
            "_________________________________________________________________\n"
          ],
          "name": "stdout"
        }
      ]
    },
    {
      "cell_type": "markdown",
      "metadata": {
        "id": "OxDJtWggtmTB",
        "colab_type": "text"
      },
      "source": [
        "Se puede notar un gran aumento en la cantidad de parámetros entrenables con respecto a la red convolucional entrenada anteriormente (al rededor de 2 millones de pesos)."
      ]
    },
    {
      "cell_type": "code",
      "metadata": {
        "id": "SiPVpfUu51GT",
        "colab_type": "code",
        "colab": {}
      },
      "source": [
        "historyi = modeli.fit(X_train, Y_train, epochs=20, batch_size=256,validation_data=(X_val, Y_val), sample_weight = sample_weight, verbose=0)"
      ],
      "execution_count": 0,
      "outputs": []
    },
    {
      "cell_type": "code",
      "metadata": {
        "id": "-afUUmqgDix6",
        "colab_type": "code",
        "outputId": "d5c5ecca-af52-48b7-ffe2-0f4519e5989e",
        "colab": {
          "base_uri": "https://localhost:8080/",
          "height": 492
        }
      },
      "source": [
        "plot_losses(historyi)"
      ],
      "execution_count": 0,
      "outputs": [
        {
          "output_type": "display_data",
          "data": {
            "image/png": "[encoded data removed]",
            "text/plain": [
              "<Figure size 1080x504 with 1 Axes>"
            ]
          },
          "metadata": {
            "tags": []
          }
        },
        {
          "output_type": "stream",
          "text": [
            "Final Train Loss: 1.17761820682784\n",
            "Min val_loss: 13.383806513977051\n"
          ],
          "name": "stdout"
        }
      ]
    },
    {
      "cell_type": "markdown",
      "metadata": {
        "id": "kW952pdHuMN8",
        "colab_type": "text"
      },
      "source": [
        "Se observa el mismo comportamiento para el conjunto de validación de los observados anteriormente."
      ]
    },
    {
      "cell_type": "code",
      "metadata": {
        "id": "ryEiHbmnDIsE",
        "colab_type": "code",
        "outputId": "ef52183f-7e8f-4577-9dae-ce3a953c2f8d",
        "colab": {
          "base_uri": "https://localhost:8080/",
          "height": 374
        }
      },
      "source": [
        "print(\"For the convolutional model:\")\n",
        "Y_test_pred = modeli.predict_classes(X_test[idx] )\n",
        "for i, n_sampled in enumerate(idx):\n",
        "    text_input = [idx2word_s[p] for p in predict_words(X_test[n_sampled], data=\"source\")]\n",
        "    print(\"\\nText source: \", ' '.join(text_input))\n",
        "    text_real = [idx2word_t[p] for p in predict_words(Y_test[n_sampled,:,0], data=\"target\")]\n",
        "    print(\"Text target true: \", ' '.join( text_real))\n",
        "    text_sampled = [idx2word_t[p] for p in predict_words(Y_test_pred[i], data=\"target\")]\n",
        "    print(\"Text target predicted: \", ' '.join(text_sampled))"
      ],
      "execution_count": 0,
      "outputs": [
        {
          "output_type": "stream",
          "text": [
            "For the convolutional model:\n",
            "\n",
            "Text source:  ive tried doing it that way already\n",
            "Text target true:  eu já tentei fazêlo dessa maneira <EOS>\n",
            "Text target predicted:  já tentei fazêlo isso dessa <EOS>\n",
            "\n",
            "Text source:  thats how we dealt with it\n",
            "Text target true:  foi assim que com isso <EOS>\n",
            "Text target predicted:  é isso que nós <EOS>\n",
            "\n",
            "Text source:  we have to change our plan\n",
            "Text target true:  temos de mudar nosso plano <EOS>\n",
            "Text target predicted:  temos que mudar nosso plano <EOS>\n",
            "\n",
            "Text source:  the students were told to learn the poem by heart\n",
            "Text target true:  disseram aos estudantes que o poema de cor <EOS>\n",
            "Text target predicted:  a alunos que que a o o o de <EOS>\n",
            "\n",
            "Text source:  the robber the bag from his hand\n",
            "Text target true:  o ladrão pegou a bolsa da sua mão <EOS>\n",
            "Text target predicted:  o homem pegou a sua mão sua mão <EOS>\n"
          ],
          "name": "stdout"
        }
      ]
    },
    {
      "cell_type": "markdown",
      "metadata": {
        "id": "z8pN5uR9ud44",
        "colab_type": "text"
      },
      "source": [
        "Los resultados de la red son similares a los de la red convolucional anteriormente utilizada, un detalle a destacar corresponde a que la red no puede detectar los significados implicitos dentro de las palabras como el caso de \"im not famous\", la traducción literal corresponde a \"Yo no soy famoso\" el cual es lo que la red devuelve, pero el verdadero resultado es \"No soy famoso\""
      ]
    },
    {
      "cell_type": "markdown",
      "metadata": {
        "id": "AeXBTv5_DHXW",
        "colab_type": "text"
      },
      "source": [
        "> j) A pesar de que la tarea de medir qué tan similar es un texto a otro ya es un área de investigación propia [[6]](#refs), usted deberá utilizar alguna métrica de desempeño para ver qué tan buena es la traducción del texto *versus* el texto real entregado. Debido a que la métrica de *Exact Matching* (EM) puede ser muy drástica, mida *f1 score* por texto además de proponer alguna otra técnica de evaluación para medir sobre el conjunto de pruebas y los otros conjuntos si estima conveniente. Puede basarse en otros trabajos como *Image captioning* o *Text summary*. \n",
        "\n",
        "> *Hint: Debido a los problemas de memoria al realizar un forward-pass, solo seleccione un subconjunto $N_{sub}$ del conjunto de pruebas para realizar ésta evaluación, se aconseja entre 1000 y 5000.*"
      ]
    },
    {
      "cell_type": "code",
      "metadata": {
        "id": "noparbaoDnBg",
        "colab_type": "code",
        "colab": {}
      },
      "source": [
        "m = MultiLabelBinarizer().fit([np.arange(n_words_t)])\n",
        "\n",
        "def calculate_f1(true, pred):\n",
        "    true = np.squeeze(true)\n",
        "    pred = np.squeeze(pred)\n",
        "    binarized_true = m.transform([predict_words(true)])[0] #onehot of words appear\n",
        "    binarized_pred = m.transform([predict_words(pred)])[0] #onehot of words appear\n",
        "    return f1_score(binarized_true, binarized_pred, average='binary') #only on appearing words\n",
        "  \n",
        "ids = np.random.choice(np.arange(Y_test.shape[0]), size=3000, replace=False)\n",
        "\n",
        "def evaluate_it_f1(ids, model_temp, X_temp, normal=True):\n",
        "  Y_true = [Y_test[i] for i in ids]\n",
        "  if normal == True:\n",
        "    x_t = np.asarray([X_temp[i] for i in ids])\n",
        "    Y_hat = model_temp.predict_classes(x_t)\n",
        "  else:\n",
        "    Y_hat = model_temp.predict_classes(X_temp[ids])\n",
        "  \n",
        "\n",
        "  f1_final = np.mean([calculate_f1(true_words,pred_words) for true_words,pred_words in zip(Y_true,Y_hat)])\n",
        "  return f1_final #porcentaje"
      ],
      "execution_count": 0,
      "outputs": []
    },
    {
      "cell_type": "code",
      "metadata": {
        "id": "TgJUUF7SD2WA",
        "colab_type": "code",
        "colab": {}
      },
      "source": [
        "f1_model = evaluate_it_f1(ids, model, X_test)\n",
        "f1_modelc = evaluate_it_f1(ids, modelc, X_test)\n",
        "f1_modeli = evaluate_it_f1(ids, modeli, X_test)"
      ],
      "execution_count": 0,
      "outputs": []
    },
    {
      "cell_type": "code",
      "metadata": {
        "id": "fU_gQvQUD9nP",
        "colab_type": "code",
        "outputId": "fbf4276f-9e27-467f-f577-cba8948a17b9",
        "colab": {
          "base_uri": "https://localhost:8080/",
          "height": 68
        }
      },
      "source": [
        "print(\"F1 score model original:\",f1_model)\n",
        "print(\"F1 score model convolutional:\",f1_modelc)\n",
        "print(\"F1 score model modified:\",f1_modeli)"
      ],
      "execution_count": 0,
      "outputs": [
        {
          "output_type": "stream",
          "text": [
            "F1 score model original: 0.2852709662742945\n",
            "F1 score model convolutional: 0.7044199795821787\n",
            "F1 score model modified: 0.7123054236217211\n"
          ],
          "name": "stdout"
        }
      ]
    },
    {
      "cell_type": "markdown",
      "metadata": {
        "id": "B__wsMTsu_lb",
        "colab_type": "text"
      },
      "source": [
        "Como se podía esperar desde el primer entrenamiento y visualización de resultados, la primera red obtiene un desempeño muy bajo en comparación a los que utilizan convoluciones en el encoding con un f1_score de 0,7."
      ]
    },
    {
      "cell_type": "markdown",
      "metadata": {
        "id": "cKXBoVuKKggy",
        "colab_type": "text"
      },
      "source": [
        "> La función de *f1 score* en este extracto se calcula en base al *precision* y *recall* de que aparezca cada una de las palabras predichas dentro de las palabras reales (como si cada palabra fuera una clase de \"aparece\" o no), **sin importar el orden ni la ocurrencia**."
      ]
    },
    {
      "cell_type": "markdown",
      "metadata": {
        "id": "s5JQhy87LGNY",
        "colab_type": "text"
      },
      "source": [
        "> k) En vez de volver a variar el modelo de *Encoder*, dejaremos una representación manual explícita (*no entrenable*) a través de extraer características manuales de los textos *source*, como por ejemplo representaciones *term frequency* (TF) o TF-IDF, proporcionadas a través de __[sklearn](https://scikit-learn.org/stable/modules/classes.html#module-sklearn.feature_extraction.text)__. Luego, con esto generado, defina y entrene el modelo *Decoder* neuronal como el presentado en las preguntas anteriores, ésto es comenzar desde la capa *RepeatVector* hasta llegar a la clasificación sobre el texto *target*. Compare el desempeño con lo presentado en (j) y lo visualizado en (h)."
      ]
    },
    {
      "cell_type": "code",
      "metadata": {
        "id": "tPRDAtEtFp8R",
        "colab_type": "code",
        "colab": {}
      },
      "source": [
        "def dummy_fun(doc):\n",
        "    return doc\n",
        "tf_idf = TfidfVectorizer(analyzer='word',tokenizer=dummy_fun,preprocessor=dummy_fun,\n",
        "                         token_pattern=None,use_idf= True, smooth_idf=True, norm='l2', max_features=3000)   \n",
        "X_train_tfidf = tf_idf.fit_transform(dataX_train).astype('float32').todense()\n",
        "X_val_tfidf = tf_idf.fit_transform(dataX_val).astype('float32').todense()\n",
        "X_test_tfidf = tf_idf.fit_transform(dataX_test).astype('float32').todense()\n"
      ],
      "execution_count": 0,
      "outputs": []
    },
    {
      "cell_type": "markdown",
      "metadata": {
        "id": "MHbb7lZvvWjz",
        "colab_type": "text"
      },
      "source": [
        "A diferencia de un embedding un vectorizador TF-IDF no otorga pesos basados en la distancias que separan palabras, sino que entrega pesos basados en la ocurrencia de cada una, para efectos del problema se estima que los resultados obtenidos a traves de este método no sean de buena calidad."
      ]
    },
    {
      "cell_type": "code",
      "metadata": {
        "id": "YKauxdgkMpEY",
        "colab_type": "code",
        "outputId": "0b9261d0-ff1e-4487-8091-b0cc84679eaf",
        "colab": {
          "base_uri": "https://localhost:8080/",
          "height": 34
        }
      },
      "source": [
        "X_train_tfidf.shape, X_val_tfidf.shape, X_test_tfidf.shape"
      ],
      "execution_count": 0,
      "outputs": [
        {
          "output_type": "execute_result",
          "data": {
            "text/plain": [
              "((115671, 3000), (10000, 3000), (10000, 3000))"
            ]
          },
          "metadata": {
            "tags": []
          },
          "execution_count": 40
        }
      ]
    },
    {
      "cell_type": "code",
      "metadata": {
        "id": "FyLDyMO4LsAe",
        "colab_type": "code",
        "outputId": "1500d967-c486-485e-9c2f-71b65513e809",
        "colab": {
          "base_uri": "https://localhost:8080/",
          "height": 238
        }
      },
      "source": [
        "modelf = Sequential()\n",
        "\n",
        "modelf.add(InputLayer(input_shape=(X_train_tfidf.shape[1],)))\n",
        "modelf.add(RepeatVector(max_out_length)) #conection\n",
        "#modelf.add(Input(shape=(X_train_tfidf.shape[1],), sparse=True))\n",
        "modelf.add(CuDNNGRU(512, return_sequences=True))\n",
        "modelf.add(TimeDistributed(Dense(n_words_t, activation='softmax')))\n",
        "modelf.compile(optimizer='adam', loss='sparse_categorical_crossentropy', sample_weight_mode='temporal')\n",
        "modelf.summary() "
      ],
      "execution_count": 0,
      "outputs": [
        {
          "output_type": "stream",
          "text": [
            "_________________________________________________________________\n",
            "Layer (type)                 Output Shape              Param #   \n",
            "=================================================================\n",
            "repeat_vector_4 (RepeatVecto (None, 34, 3000)          0         \n",
            "_________________________________________________________________\n",
            "cu_dnngru_7 (CuDNNGRU)       (None, 34, 512)           5397504   \n",
            "_________________________________________________________________\n",
            "time_distributed_4 (TimeDist (None, 34, 8761)          4494393   \n",
            "=================================================================\n",
            "Total params: 9,891,897\n",
            "Trainable params: 9,891,897\n",
            "Non-trainable params: 0\n",
            "_________________________________________________________________\n"
          ],
          "name": "stdout"
        }
      ]
    },
    {
      "cell_type": "code",
      "metadata": {
        "id": "XdUhKSGPH5Pr",
        "colab_type": "code",
        "colab": {}
      },
      "source": [
        "historyf = modelf.fit(X_train_tfidf, Y_train, epochs=20, batch_size=256,validation_data=(X_val_tfidf, Y_val), sample_weight = sample_weight, verbose=0)"
      ],
      "execution_count": 0,
      "outputs": []
    },
    {
      "cell_type": "code",
      "metadata": {
        "id": "8qZAxwMxu921",
        "colab_type": "code",
        "outputId": "8aff0fa7-cf74-44d7-8a78-8ad230142918",
        "colab": {
          "base_uri": "https://localhost:8080/",
          "height": 492
        }
      },
      "source": [
        "plot_losses(historyf)"
      ],
      "execution_count": 0,
      "outputs": [
        {
          "output_type": "display_data",
          "data": {
            "image/png": "[encoded data removed]",
            "text/plain": [
              "<Figure size 1080x504 with 1 Axes>"
            ]
          },
          "metadata": {
            "tags": []
          }
        },
        {
          "output_type": "stream",
          "text": [
            "Final Train Loss: 1.0459851383541459\n",
            "Min val_loss: 13.970270021057129\n"
          ],
          "name": "stdout"
        }
      ]
    },
    {
      "cell_type": "code",
      "metadata": {
        "id": "JgyqP2XYvHHU",
        "colab_type": "code",
        "outputId": "d4466906-680a-4b21-e6a0-9a8ff175088f",
        "colab": {
          "base_uri": "https://localhost:8080/",
          "height": 357
        }
      },
      "source": [
        "Y_test_pred = modelf.predict_classes(X_test_tfidf[idx] )\n",
        "for i, n_sampled in enumerate(idx):\n",
        "    text_input = [idx2word_s[p] for p in predict_words(X_test[n_sampled], data=\"source\")]\n",
        "    print(\"\\nText source: \", ' '.join(text_input))\n",
        "    text_real = [idx2word_t[p] for p in predict_words(Y_test[n_sampled,:,0], data=\"target\")]\n",
        "    print(\"Text target true: \", ' '.join( text_real))\n",
        "    text_sampled = [idx2word_t[p] for p in predict_words(Y_test_pred[i], data=\"target\")]\n",
        "    print(\"Text target predicted: \", ' '.join(text_sampled))"
      ],
      "execution_count": 0,
      "outputs": [
        {
          "output_type": "stream",
          "text": [
            "\n",
            "Text source:  ive tried doing it that way already\n",
            "Text target true:  eu já tentei fazêlo dessa maneira <EOS>\n",
            "Text target predicted:  assim assim assim em em em <EOS>\n",
            "\n",
            "Text source:  thats how we dealt with it\n",
            "Text target true:  foi assim que com isso <EOS>\n",
            "Text target predicted:  não filme filme a <EOS>\n",
            "\n",
            "Text source:  we have to change our plan\n",
            "Text target true:  temos de mudar nosso plano <EOS>\n",
            "Text target predicted:  não não ser ser ser <EOS>\n",
            "\n",
            "Text source:  the students were told to learn the poem by heart\n",
            "Text target true:  disseram aos estudantes que o poema de cor <EOS>\n",
            "Text target predicted:  a as as as ao uma coleção do <EOS>\n",
            "\n",
            "Text source:  the robber the bag from his hand\n",
            "Text target true:  o ladrão pegou a bolsa da sua mão <EOS>\n",
            "Text target predicted:  a ao máximo do volta ao seu <EOS>\n"
          ],
          "name": "stdout"
        }
      ]
    },
    {
      "cell_type": "markdown",
      "metadata": {
        "id": "EW0VTF3jwF4T",
        "colab_type": "text"
      },
      "source": [
        "De alguna forma, este método obtiene mejores resultados que la red que utiliza embedding y compuertas gru para generar el vector de contexto, si bien, las oraciones entregadas no se parecen en nada a las originales (por lo menos en los 5 ejemplos observados) se espera que tengan un mejor sentido que \"eu tom\" o \"tom que\"."
      ]
    },
    {
      "cell_type": "code",
      "metadata": {
        "id": "jxlJ_YmfuxB4",
        "colab_type": "code",
        "colab": {}
      },
      "source": [
        "f1_modelf = evaluate_it_f1(ids, modelf, X_test_tfidf, False)"
      ],
      "execution_count": 0,
      "outputs": []
    },
    {
      "cell_type": "code",
      "metadata": {
        "id": "VStL_wXOvxGu",
        "colab_type": "code",
        "outputId": "9cca8bae-e29a-4714-9403-e3eefce49032",
        "colab": {
          "base_uri": "https://localhost:8080/",
          "height": 85
        }
      },
      "source": [
        "print(\"F1 score model original:\",f1_model)\n",
        "print(\"F1 score model convolutional:\",f1_modelc)\n",
        "print(\"F1 score model modified:\",f1_modeli)\n",
        "print(\"F1 score model final:\",f1_modelf)"
      ],
      "execution_count": 0,
      "outputs": [
        {
          "output_type": "stream",
          "text": [
            "F1 score model original: 0.2852709662742945\n",
            "F1 score model convolutional: 0.7044199795821787\n",
            "F1 score model modified: 0.7123054236217211\n",
            "F1 score model final: 0.37294524874029117\n"
          ],
          "name": "stdout"
        }
      ]
    },
    {
      "cell_type": "markdown",
      "metadata": {
        "id": "1rSdxQVLwijK",
        "colab_type": "text"
      },
      "source": [
        "La calidad de la ultima red neuronal no supera los resultados de los modelos convolucionales, pero si logra obtener un mejor desempeño que la red original por 0.07."
      ]
    },
    {
      "cell_type": "markdown",
      "metadata": {
        "id": "IUYBAB2AxCIW",
        "colab_type": "text"
      },
      "source": [
        "##Encoding con capas bidireccionales"
      ]
    },
    {
      "cell_type": "code",
      "metadata": {
        "id": "mMmhHHngxBaL",
        "colab_type": "code",
        "outputId": "4f081817-8157-4375-fca1-17e06d1256e1",
        "colab": {
          "base_uri": "https://localhost:8080/",
          "height": 306
        }
      },
      "source": [
        "modele = Sequential()\n",
        "modele.add(Embedding(input_dim=n_words_s, output_dim=EMBEDDING_DIM2, input_length=max_inp_length, trainable=True, weights = [embedding_matrix2]))\n",
        "gate_layer1 = CuDNNGRU(128, return_sequences=False)\n",
        "modele.add(Bidirectional(gate_layer1, merge_mode='concat'))\n",
        "modele.add(RepeatVector(max_out_length)) #conection\n",
        "gate_layer2 = CuDNNGRU(128, return_sequences=True)\n",
        "modele.add(Bidirectional(gate_layer2, merge_mode='concat'))\n",
        "modele.add(TimeDistributed(Dense(n_words_t, activation='softmax')))\n",
        "modele.compile(optimizer='adam', loss='sparse_categorical_crossentropy', sample_weight_mode='temporal')\n",
        "modele.summary()"
      ],
      "execution_count": 0,
      "outputs": [
        {
          "output_type": "stream",
          "text": [
            "_________________________________________________________________\n",
            "Layer (type)                 Output Shape              Param #   \n",
            "=================================================================\n",
            "embedding_4 (Embedding)      (None, 35, 200)           1191000   \n",
            "_________________________________________________________________\n",
            "bidirectional_2 (Bidirection (None, 256)               253440    \n",
            "_________________________________________________________________\n",
            "repeat_vector_5 (RepeatVecto (None, 34, 256)           0         \n",
            "_________________________________________________________________\n",
            "bidirectional_3 (Bidirection (None, 34, 256)           296448    \n",
            "_________________________________________________________________\n",
            "time_distributed_5 (TimeDist (None, 34, 8761)          2251577   \n",
            "=================================================================\n",
            "Total params: 3,992,465\n",
            "Trainable params: 3,992,465\n",
            "Non-trainable params: 0\n",
            "_________________________________________________________________\n"
          ],
          "name": "stdout"
        }
      ]
    },
    {
      "cell_type": "code",
      "metadata": {
        "id": "k1XcEkUTyJ4S",
        "colab_type": "code",
        "outputId": "dfbbf3a7-0071-4dd7-ac9c-64d67373849f",
        "colab": {
          "base_uri": "https://localhost:8080/",
          "height": 714
        }
      },
      "source": [
        "historye = modele.fit(X_train, Y_train, epochs=20, batch_size=256,validation_data=(X_val, Y_val), sample_weight = sample_weight, verbose=1)"
      ],
      "execution_count": 0,
      "outputs": [
        {
          "output_type": "stream",
          "text": [
            "Train on 115671 samples, validate on 10000 samples\n",
            "Epoch 1/20\n",
            "115671/115671 [==============================] - 55s 479us/step - loss: 5.5783 - val_loss: 13.6128\n",
            "Epoch 2/20\n",
            "115671/115671 [==============================] - 53s 462us/step - loss: 4.7652 - val_loss: 13.5171\n",
            "Epoch 3/20\n",
            "115671/115671 [==============================] - 54s 465us/step - loss: 4.0012 - val_loss: 13.4905\n",
            "Epoch 4/20\n",
            "115671/115671 [==============================] - 54s 466us/step - loss: 3.4545 - val_loss: 13.4909\n",
            "Epoch 5/20\n",
            "115671/115671 [==============================] - 54s 468us/step - loss: 3.0522 - val_loss: 13.4672\n",
            "Epoch 6/20\n",
            "115671/115671 [==============================] - 54s 469us/step - loss: 2.7507 - val_loss: 13.4571\n",
            "Epoch 7/20\n",
            "115671/115671 [==============================] - 54s 469us/step - loss: 2.5227 - val_loss: 13.4489\n",
            "Epoch 8/20\n",
            "115671/115671 [==============================] - 54s 469us/step - loss: 2.3472 - val_loss: 13.4342\n",
            "Epoch 9/20\n",
            "115671/115671 [==============================] - 54s 469us/step - loss: 2.2099 - val_loss: 13.4169\n",
            "Epoch 10/20\n",
            "115671/115671 [==============================] - 54s 469us/step - loss: 2.0957 - val_loss: 13.4078\n",
            "Epoch 11/20\n",
            "115671/115671 [==============================] - 54s 469us/step - loss: 2.0030 - val_loss: 13.4025\n",
            "Epoch 12/20\n",
            "115671/115671 [==============================] - 54s 469us/step - loss: 1.9231 - val_loss: 13.3981\n",
            "Epoch 13/20\n",
            "115671/115671 [==============================] - 54s 468us/step - loss: 1.8545 - val_loss: 13.3935\n",
            "Epoch 14/20\n",
            "115671/115671 [==============================] - 54s 468us/step - loss: 1.7934 - val_loss: 13.3914\n",
            "Epoch 15/20\n",
            "115671/115671 [==============================] - 54s 468us/step - loss: 1.7378 - val_loss: 13.3907\n",
            "Epoch 16/20\n",
            "115671/115671 [==============================] - 54s 468us/step - loss: 1.6887 - val_loss: 13.3895\n",
            "Epoch 17/20\n",
            "115671/115671 [==============================] - 54s 468us/step - loss: 1.6438 - val_loss: 13.3901\n",
            "Epoch 18/20\n",
            "115671/115671 [==============================] - 54s 467us/step - loss: 1.6038 - val_loss: 13.3907\n",
            "Epoch 19/20\n",
            "115671/115671 [==============================] - 54s 467us/step - loss: 1.5645 - val_loss: 13.3945\n",
            "Epoch 20/20\n",
            "115671/115671 [==============================] - 54s 467us/step - loss: 1.5301 - val_loss: 13.3956\n"
          ],
          "name": "stdout"
        }
      ]
    },
    {
      "cell_type": "code",
      "metadata": {
        "id": "FGs43rpcyU-r",
        "colab_type": "code",
        "outputId": "f97fc4fc-4945-4ee5-ebef-40ee97c200a8",
        "colab": {
          "base_uri": "https://localhost:8080/",
          "height": 492
        }
      },
      "source": [
        "plot_losses(historye)"
      ],
      "execution_count": 0,
      "outputs": [
        {
          "output_type": "display_data",
          "data": {
            "image/png": "[encoded data removed]",
            "text/plain": [
              "<Figure size 1080x504 with 1 Axes>"
            ]
          },
          "metadata": {
            "tags": []
          }
        },
        {
          "output_type": "stream",
          "text": [
            "Final Train Loss: 1.53010979017265\n",
            "Min val_loss: 13.389524981689453\n"
          ],
          "name": "stdout"
        }
      ]
    },
    {
      "cell_type": "code",
      "metadata": {
        "id": "Az48hnHczHlk",
        "colab_type": "code",
        "outputId": "721faef5-1133-4eea-fb02-2a7ea098ec16",
        "colab": {
          "base_uri": "https://localhost:8080/",
          "height": 357
        }
      },
      "source": [
        "Y_test_pred = modele.predict_classes(X_test[idx] )\n",
        "for i, n_sampled in enumerate(idx):\n",
        "    text_input = [idx2word_s[p] for p in predict_words(X_test[n_sampled], data=\"source\")]\n",
        "    print(\"\\nText source: \", ' '.join(text_input))\n",
        "    text_real = [idx2word_t[p] for p in predict_words(Y_test[n_sampled,:,0], data=\"target\")]\n",
        "    print(\"Text target true: \", ' '.join( text_real))\n",
        "    text_sampled = [idx2word_t[p] for p in predict_words(Y_test_pred[i], data=\"target\")]\n",
        "    print(\"Text target predicted: \", ' '.join(text_sampled))"
      ],
      "execution_count": 0,
      "outputs": [
        {
          "output_type": "stream",
          "text": [
            "\n",
            "Text source:  ive tried doing it that way already\n",
            "Text target true:  eu já tentei fazêlo dessa maneira <EOS>\n",
            "Text target predicted:  já tentei tentei isso maneira maneira <EOS>\n",
            "\n",
            "Text source:  thats how we dealt with it\n",
            "Text target true:  foi assim que com isso <EOS>\n",
            "Text target predicted:  isso isso isso isso isso com <EOS>\n",
            "\n",
            "Text source:  we have to change our plan\n",
            "Text target true:  temos de mudar nosso plano <EOS>\n",
            "Text target predicted:  temos temos mudar nosso nosso nosso <EOS>\n",
            "\n",
            "Text source:  the students were told to learn the poem by heart\n",
            "Text target true:  disseram aos estudantes que o poema de cor <EOS>\n",
            "Text target predicted:  os alunos aprenderam a decorar a estudantes os os alunos <EOS>\n",
            "\n",
            "Text source:  the robber the bag from his hand\n",
            "Text target true:  o ladrão pegou a bolsa da sua mão <EOS>\n",
            "Text target predicted:  o assaltante a a mão de de <EOS>\n"
          ],
          "name": "stdout"
        }
      ]
    },
    {
      "cell_type": "code",
      "metadata": {
        "id": "iTKn3y2ByXIC",
        "colab_type": "code",
        "colab": {}
      },
      "source": [
        "f1_modele = evaluate_it_f1(ids, modele, X_test, True)"
      ],
      "execution_count": 0,
      "outputs": []
    },
    {
      "cell_type": "code",
      "metadata": {
        "id": "TPadQ4ypyg5V",
        "colab_type": "code",
        "outputId": "d54ff3f2-26d8-462b-9826-0bb01a0cd8a8",
        "colab": {
          "base_uri": "https://localhost:8080/",
          "height": 102
        }
      },
      "source": [
        "print(\"F1 score model original:\",f1_model)\n",
        "print(\"F1 score model convolutional:\",f1_modelc)\n",
        "print(\"F1 score model modified:\",f1_modeli)\n",
        "print(\"F1 score model final:\",f1_modelf)\n",
        "print(\"F1 score model extra:\",f1_modele)"
      ],
      "execution_count": 0,
      "outputs": [
        {
          "output_type": "stream",
          "text": [
            "F1 score model original: 0.2852709662742945\n",
            "F1 score model convolutional: 0.7044199795821787\n",
            "F1 score model modified: 0.7123054236217211\n",
            "F1 score model final: 0.37294524874029117\n",
            "F1 score model extra: 0.7020198514940754\n"
          ],
          "name": "stdout"
        }
      ]
    }
  ]
}